{
 "cells": [
  {
   "cell_type": "code",
   "execution_count": 1,
   "id": "1ed0f3b7",
   "metadata": {},
   "outputs": [
    {
     "name": "stdout",
     "output_type": "stream",
     "text": [
      "301 records to be equal to # timesteps\n",
      "array length: 1124 tp be equal to the # level-nodes\n"
     ]
    }
   ],
   "source": [
    "from fortio import FortranFile\n",
    "\n",
    "file = r\"../data/de_tol_small/case1/flows/ts/waterlevels2d.dat\"\n",
    "\n",
    "with FortranFile(file,\n",
    "                 mode='r',\n",
    "                 header_dtype='uint32',\n",
    "                 auto_endian=True,\n",
    "                 check_file=True) as src:\n",
    "    \n",
    "    print(f\"{src.nrec} records to be equal to # timesteps\")\n",
    "\n",
    "    ts_zero = src.read_record('f8')\n",
    "    print(f\"array length: {len(ts_zero)} tp be equal to the # level-nodes\")"
   ]
  },
  {
   "cell_type": "code",
   "execution_count": 2,
   "id": "81eb2f2a",
   "metadata": {},
   "outputs": [
    {
     "data": {
      "text/plain": [
       "array([-1.8       , -1.71000004, -1.8       , ..., -1.8       ,\n",
       "       -1.70000005, -1.58000004])"
      ]
     },
     "execution_count": 2,
     "metadata": {},
     "output_type": "execute_result"
    }
   ],
   "source": [
    "ts_zero"
   ]
  }
 ],
 "metadata": {
  "kernelspec": {
   "display_name": "Python 3 (ipykernel)",
   "language": "python",
   "name": "python3"
  },
  "language_info": {
   "codemirror_mode": {
    "name": "ipython",
    "version": 3
   },
   "file_extension": ".py",
   "mimetype": "text/x-python",
   "name": "python",
   "nbconvert_exporter": "python",
   "pygments_lexer": "ipython3",
   "version": "3.9.6"
  }
 },
 "nbformat": 4,
 "nbformat_minor": 5
}
