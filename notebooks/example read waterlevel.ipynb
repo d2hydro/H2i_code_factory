{
 "cells": [
  {
   "cell_type": "code",
   "execution_count": 2,
   "id": "f558c017",
   "metadata": {},
   "outputs": [
    {
     "name": "stdout",
     "output_type": "stream",
     "text": [
      "301 records to be equal to # timesteps\n",
      "array length: 1124 tp be equal to the # level-nodes\n"
     ]
    }
   ],
   "source": [
    "from fortio import FortranFile\n",
    "\n",
    "file = r\"../data/de_tol_small/case1/flows/ts/waterlevels2d.dat\"\n",
    "\n",
    "with FortranFile(file,\n",
    "                 mode='r',\n",
    "                 header_dtype='uint32',\n",
    "                 auto_endian=True,\n",
    "                 check_file=True) as src:\n",
    "    \n",
    "    print(f\"{src.nrec} records to be equal to # timesteps\")\n",
    "\n",
    "    print(f\"array length: {len(src.read_record('f8'))} tp be equal to the # level-nodes\")"
   ]
  }
 ],
 "metadata": {
  "kernelspec": {
   "display_name": "Python 3 (ipykernel)",
   "language": "python",
   "name": "python3"
  },
  "language_info": {
   "codemirror_mode": {
    "name": "ipython",
    "version": 3
   },
   "file_extension": ".py",
   "mimetype": "text/x-python",
   "name": "python",
   "nbconvert_exporter": "python",
   "pygments_lexer": "ipython3",
   "version": "3.9.6"
  }
 },
 "nbformat": 4,
 "nbformat_minor": 5
}
