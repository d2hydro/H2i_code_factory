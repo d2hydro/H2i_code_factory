{
 "cells": [
  {
   "cell_type": "code",
   "execution_count": 1,
   "id": "01605e5d",
   "metadata": {},
   "outputs": [
    {
     "name": "stdout",
     "output_type": "stream",
     "text": [
      "301\n",
      "1124\n"
     ]
    }
   ],
   "source": [
    "from fortio import FortranFile\n",
    "\n",
    "file = r\"../data/de_tol_small/case1/flows/ts/waterlevels2d.dat\"\n",
    "\n",
    "with FortranFile(file,\n",
    "                 mode='r',\n",
    "                 header_dtype='uint32',\n",
    "                 auto_endian=True,\n",
    "                 check_file=True) as src:\n",
    "    \n",
    "    print(f\"{src.nrec} records to be equal to # timesteps\")\n",
    "\n",
    "    print(f\"{len(src.read_record(\"f8\"))})"
   ]
  },
  {
   "cell_type": "code",
   "execution_count": null,
   "id": "11d71fba",
   "metadata": {},
   "outputs": [],
   "source": []
  }
 ],
 "metadata": {
  "kernelspec": {
   "display_name": "Python 3 (ipykernel)",
   "language": "python",
   "name": "python3"
  },
  "language_info": {
   "codemirror_mode": {
    "name": "ipython",
    "version": 3
   },
   "file_extension": ".py",
   "mimetype": "text/x-python",
   "name": "python",
   "nbconvert_exporter": "python",
   "pygments_lexer": "ipython3",
   "version": "3.9.6"
  }
 },
 "nbformat": 4,
 "nbformat_minor": 5
}
