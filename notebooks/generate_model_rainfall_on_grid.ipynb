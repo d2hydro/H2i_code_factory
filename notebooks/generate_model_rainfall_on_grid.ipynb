{
 "cells": [
  {
   "cell_type": "markdown",
   "id": "31f0914c",
   "metadata": {},
   "source": [
    "# Model 1: rainfall on DEM\n",
    "\n",
    "With this notebook you will build a simple H2Flow project; rain on a digital elevation model (DEM). All other H2Flow parameters (e.g. friction, infiltration, etc.) we will keep constant.\n",
    "\n",
    "Objective: to get familiar with H2Flow grid, and minimal project structure\n",
    "\n",
    "Steps in this notebook:\n",
    "1. Prepare input data:\n",
    "    - Process the HydroDEM into H2Flow ASCI dem\n",
    "    - Process ASCII rainfall to a H2Flow timeseries\n",
    "2. Write settings:\n",
    "    - Settings for H2Flow grid generator (input_grid_gen)\n",
    "    - Input-settings for your model-run (input)\n",
    "    - Output-settings for your model-run (settings_output)\n",
    "    - Numerical settings for the computational core (settings_omp)\n",
    "3. Write IO root"
   ]
  },
  {
   "cell_type": "code",
   "execution_count": 1,
   "id": "9c918a49",
   "metadata": {},
   "outputs": [],
   "source": [
    "from pathlib import Path, PurePosixPath\n",
    "import geopandas as gpd\n",
    "import pandas as pd\n",
    "import rasterio\n",
    "import copy"
   ]
  },
  {
   "cell_type": "markdown",
   "id": "cbda3685",
   "metadata": {},
   "source": [
    "## 1. Prepare input data:\n",
    "\n",
    "Prepare the input for this notebook by:\n",
    "- downloading your data from: https://drive.google.com/drive/folders/1e3kjUWD-ikHo_TSmjCY86QyL-40R9xt3?usp=sharing.\n",
    "- putting the data into ..\\data\\de_tol relative to the path-location of this notebook.\n",
    "\n",
    "Below the input paths are defined, they should all exist"
   ]
  },
  {
   "cell_type": "code",
   "execution_count": 2,
   "id": "c003adde",
   "metadata": {},
   "outputs": [],
   "source": [
    "# Repos data path\n",
    "data_path = Path(r\"../data\")\n",
    "\n",
    "# level 1 source-data\n",
    "source_path = data_path.joinpath(\"de_tol\")\n",
    "dem_tif = source_path.joinpath(\"dem_kockengen_20160905.tif\")\n",
    "wla_gpkg = source_path.joinpath(\"waterlevel_areas.gpkg\")\n",
    "gauges_gpkg = source_path.joinpath(\"gauges.gpkg\")\n",
    "rainfall_path = source_path.joinpath(\"rainfall\")\n",
    "\n",
    "# level 2 project directory\n",
    "project_dir = data_path.joinpath(\"case\")\n",
    "project_dir.mkdir(parents=True, exist_ok=True)\n",
    "\n",
    "# h2flow run_directory\n",
    "run_dir = data_path.joinpath(\"exe\")\n",
    "run_dir.mkdir(parents=True, exist_ok=True)"
   ]
  },
  {
   "cell_type": "markdown",
   "id": "df054c8c",
   "metadata": {},
   "source": [
    "### Process the HydroDEM into H2Flow ASCI dem\n",
    "\n",
    "You read the DEM into memory and read the (meta-)data. We save the DEM as ESRI ASCII file: https://desktop.arcgis.com/en/arcmap/10.3/manage-data/raster-and-images/esri-ascii-raster-format.html\n",
    "\n",
    "You specify one variable:\n",
    "- <b>dem_version:</b> version number of the dem-file"
   ]
  },
  {
   "cell_type": "code",
   "execution_count": 3,
   "id": "70d5b5d0",
   "metadata": {},
   "outputs": [
    {
     "name": "stdout",
     "output_type": "stream",
     "text": [
      "{'driver': 'AAIGrid', 'dtype': 'float32', 'nodata': -9999.0, 'width': 10274, 'height': 12146, 'count': 1, 'crs': CRS.from_epsg(28992), 'transform': Affine(0.5, 0.0, 124434.5,\n",
      "       0.0, -0.5, 464846.0), 'tiled': False, 'compress': 'deflate', 'interleave': 'band'}\n"
     ]
    }
   ],
   "source": [
    "dem_version = 1\n",
    "\n",
    "# read DEM into memory and save it as ESRI ASCI-grid\n",
    "with rasterio.open(dem_tif) as src:\n",
    "    profile = src.profile\n",
    "    data = src.read(1)\n",
    "    dem_res = copy.copy(src.res[0])\n",
    "\n",
    "profile[\"driver\"] = \"AAIGrid\"\n",
    "\n",
    "print(profile)\n",
    "\n",
    "dem_file = f'depthasci,imax= {profile[\"width\"]},jmax= {profile[\"height\"]},netw1d=  0.  {dem_version}'\n",
    "\n",
    "with rasterio.open(project_dir.joinpath(dem_file), \"w+\", **profile) as dst:\n",
    "    dst.write(data, 1)"
   ]
  },
  {
   "cell_type": "markdown",
   "id": "dd0ebde0",
   "metadata": {},
   "source": [
    "### Process ASCII rainfall to a H2Flow timeseries\n",
    "\n",
    "We have rainfall time-series in ESRI-ASCI format, but we will supply the H2Flow model with a CSV containing one time-series. For that we take the following steps per ASCI-file:\n",
    "1. Compute the timestep of the asci-file\n",
    "2. Sample the rainfall value from the asci-file\n",
    "3. Append timestep and value to DataFrame\n",
    "\n",
    "The result you save in a CSV-file that contains all data. This CSV has the following header information:<br>\n",
    "<i>{rainfall_version} {m_conversion} {t_conversion}<br>\n",
    "{number_gauges} {bounds}</i>\n",
    "\n",
    "In this process you'll need the following variables:\n",
    "- <b>rainfall_version:</b> version of the rainfall event\n",
    "- <b>m_conversion:</b> conversion from input unit (mm/h) to H2Flow unit (m/s)\n",
    "- <b>t_conversion:</b> conversion form input unit (mm/h) to H2Flow unit (m/s)\n",
    "- <b>number_gauges:</b> amount of gauges used"
   ]
  },
  {
   "cell_type": "code",
   "execution_count": 4,
   "id": "a1ef2394",
   "metadata": {},
   "outputs": [
    {
     "name": "stderr",
     "output_type": "stream",
     "text": [
      "C:\\Anaconda3\\envs\\work\\lib\\site-packages\\geopandas\\geodataframe.py:577: RuntimeWarning: Sequential read of iterator was interrupted. Resetting iterator. This can negatively impact the performance.\n",
      "  for feature in features_lst:\n"
     ]
    },
    {
     "name": "stdout",
     "output_type": "stream",
     "text": [
      "-1 0.001 -3600.0\n",
      "1 124434 458773 129571 464846\n",
      "0,00,00,0,0.00\n",
      "0,01,00,0,0.00\n",
      "0,02,00,0,17.23\n",
      "0,03,00,0,1.27\n",
      "0,04,00,0,4.02\n",
      "0,05,00,0,0.00\n",
      "0,06,00,0,0.00\n",
      "0,07,00,0,0.00\n",
      "0,08,00,0,15.29\n",
      "0,09,00,0,0.00\n",
      "0,10,00,0,0.34\n",
      "0,11,00,0,17.56\n",
      "0,12,00,0,39.75\n",
      "0,13,00,0,33.85\n",
      "0,14,00,0,0.16\n",
      "0,15,00,0,0.05\n",
      "0,16,00,0,1.55\n",
      "0,17,00,0,0.04\n",
      "0,18,00,0,0.00\n",
      "0,19,00,0,0.00\n",
      "0,20,00,0,0.00\n",
      "0,21,00,0,0.00\n",
      "0,22,00,0,0.00\n",
      "0,23,00,0,0.00\n",
      "1,00,00,0,0.00\n",
      "\n"
     ]
    }
   ],
   "source": [
    "# input variables\n",
    "rainfall_version = -1\n",
    "m_conversion = 0.001\n",
    "t_conversion = -3600.0\n",
    "number_gauges = 1\n",
    "\n",
    "# computed variables\n",
    "bounds = \" \".join([str(int(i)) for i in list(src.bounds)]) # boundary of rainfall\n",
    "rainfall_ascs = rainfall_path.glob(\"*.ASC\") # input rainfall asci's\n",
    "\n",
    "gdf = gpd.read_file(gauges_gpkg) # gauges-file (contains 1 gauge for now)\n",
    "xy = [(geom.x, geom.y) for geom in gdf[\"geometry\"]] # xy-tuple from rainfall gauge\n",
    "\n",
    "columns = {\"days\": int, \"hours\": str, \"minutes\": str, \"seconds\": int, \"value\": float}\n",
    "df = pd.DataFrame(columns=columns)\n",
    "\n",
    "# iteration over rainfall asci's\n",
    "for idx, asc in enumerate(rainfall_ascs):\n",
    "    datetime = pd.to_datetime(asc.stem, format=\"NSL_%Y%m%d_%H\")\n",
    "\n",
    "    if idx == 0:\n",
    "        ref_datetime = copy.copy(datetime)\n",
    "\n",
    "    time_delta = datetime - ref_datetime\n",
    "\n",
    "    days = time_delta.components.days\n",
    "    hours = f\"{time_delta.components.hours:02d}\"\n",
    "    minutes = f\"{time_delta.components.minutes:02d}\"\n",
    "    seconds = time_delta.components.seconds\n",
    "\n",
    "    with rasterio.open(asc) as src:\n",
    "        value = [val[0] for val in src.sample(xy)][0]\n",
    "        df.loc[idx] = [days, hours, minutes, seconds, value]\n",
    "\n",
    "# writing output to CSV\n",
    "rain_path = project_dir.joinpath(f\"rain. {rainfall_version}\")\n",
    "\n",
    "## write header\n",
    "header = f\"\"\"{rainfall_version} {m_conversion} {t_conversion}\n",
    "{number_gauges} {bounds}\n",
    "\"\"\"\n",
    "rain_path.write_text(header)\n",
    "\n",
    "## append dataframe\n",
    "df.astype(columns).to_csv(\n",
    "    rain_path, mode=\"a\", index=False, header=False, float_format=\"%.2f\"\n",
    ")\n",
    "\n",
    "print(rain_path.read_text())"
   ]
  },
  {
   "cell_type": "markdown",
   "id": "5d4f99c9",
   "metadata": {},
   "source": [
    "## 2. Write settings"
   ]
  },
  {
   "cell_type": "markdown",
   "id": "2d273f44",
   "metadata": {},
   "source": [
    "### Settings for H2Flow grid generator (input_grid_gen)\n",
    "\n",
    "Below the settings that will be used by the grid-generator. The grid-generator will generate a H2Flow model grid using the DEM and other parameters. In the cell below we will create the settings-file for the grid-generator\n",
    "\n",
    "We define the following input parameters:\n",
    "- <b>grid_version:</b> version of the H2Flow grid to be generated\n",
    "- <b>quadtree_levels:</b> We will not generate a quadtree here, so keep it at 1\n",
    "- <b>finest_grid_size:</b> The smallest grid-size in units of cell-size of the original DEM, we'll use the value of 20\n",
    "- <b>manning_value:</b> we will use a constant-value of 0.04 \n",
    "- <b>infiltration_value:</b> we will use no infiltration here 0\n",
    "- <b>initial_water_level:</b> we will use a constant value of -1.8"
   ]
  },
  {
   "cell_type": "code",
   "execution_count": 5,
   "id": "e300a7ad",
   "metadata": {},
   "outputs": [
    {
     "name": "stdout",
     "output_type": "stream",
     "text": [
      "1 1 0 0 !grid number, depthfile, 1D network, Ridges number\n",
      "1 !quadtree max. level\n",
      "20 !finest coarse grid resolution (how many dem pixels do you lump together?)\n",
      "10274 !ncols\n",
      "12146 !nrows\n",
      "0.25 0.25 1.0 !table_step_size,subgrid params,1d spacing\n",
      "0.04 1 !manning value \n",
      "0 1.0 20.0 !infiltration parameters - inactive with 0\n",
      "-1.8 0 !initial water level default and file for s00, 0 means no files\n",
      "\n"
     ]
    }
   ],
   "source": [
    "grid_version = 1\n",
    "quadtree_levels = 1\n",
    "finest_grid_size = 20\n",
    "manning_value = 0.04\n",
    "infiltration_value = 0\n",
    "initial_water_level = -1.8\n",
    "\n",
    "# generate file path\n",
    "grid_gen_file = f\"input_grid_gen.  {grid_version}\"\n",
    "grid_gen_path = project_dir.joinpath(grid_gen_file)\n",
    "\n",
    "# generate file string\n",
    "grid_gen_settings = f\"\"\"{grid_version} {dem_version} 0 0 !grid number, depthfile, 1D network, Ridges number\n",
    "{quadtree_levels} !quadtree max. level\n",
    "{finest_grid_size} !finest coarse grid resolution (how many dem pixels do you lump together?)\n",
    "{profile[\"width\"]} !ncols\n",
    "{profile[\"height\"]} !nrows\n",
    "0.25 0.25 1.0 !table_step_size,subgrid params,1d spacing\n",
    "{manning_value} 1 !manning value \n",
    "{infiltration_value} 1.0 20.0 !infiltration parameters - inactive with 0\n",
    "{initial_water_level} 0 !initial water level default and file for s00, 0 means no files\n",
    "\"\"\"\n",
    "\n",
    "# write\n",
    "grid_gen_path.write_text(grid_gen_settings)\n",
    "\n",
    "# print\n",
    "print(grid_gen_settings)"
   ]
  },
  {
   "cell_type": "markdown",
   "id": "01f370f0",
   "metadata": {},
   "source": [
    "### Input-settings for your model-run (input)\n",
    "\n",
    "In the cell below we will write the settings that will be used by H2Flow core for this specific model run. We define the following variables:\n",
    "- <b>run_number:</b> run-version-number\n",
    "- <b>advection_2d:</b> 0 or 1. This is an important setting as it will switch on/off advection in the 2d domain\n",
    "- <b>advection_1d:</b> 0 or 1. This is an important setting as it will switch on/off advection in the 1d domain\n",
    "- <b>timestep_secs:</b> Your timestep in seconds. This is important in combination with the advection switch. A too large timestep in combination with advection will cause instability\n",
    "\n",
    "The rest we have defined above"
   ]
  },
  {
   "cell_type": "code",
   "execution_count": 6,
   "id": "5dd8fb55",
   "metadata": {
    "scrolled": true
   },
   "outputs": [
    {
     "name": "stdout",
     "output_type": "stream",
     "text": [
      "1 !grid number\n",
      "0 !network number\n",
      "1 !highest level of quadtree\n",
      "20 !finest grid spacing number of dem cells to lump\n",
      "10274 !ncols\n",
      "12146 !nrows\n",
      "0 0 !advection2d switch, advection1d switch\n",
      "10.0d0 !dt #settings: time_step\n",
      "0 1 0 0 0 !total time of simulation  mon :: days :: hours :: mins :: seconds\n",
      "0 0 !number of 2d boundaries, number of 1d boundaries (skip if none), number of for boundary data file extension \n",
      "1 !npc,number of prediction correction steps for flooding default\n",
      "-1.8 !initial waterlevel > 10^7 directs read from file sini_ generated from s00, otherwise water level applied everywhere\n",
      "-1 !rain -> read from file if negative file extension number\n",
      "0  0.0d0 0.0d0 0.0d0 3600.0d0 0.0d0 !infiltration 2d parameters\n",
      "1.0d-5 !wetting threshold\n",
      "0 !number of pump locations\n",
      "\n"
     ]
    }
   ],
   "source": [
    "run_number = 1\n",
    "advection_2d = 0\n",
    "advection_1d = 0\n",
    "timestep_secs = 10\n",
    "\n",
    "# generate file path\n",
    "input_settings_file = f\"input.  {run_number}\"\n",
    "input_settings_path = project_dir.joinpath(input_settings_file)\n",
    "\n",
    "# generate file string\n",
    "input_settings=f\"\"\"{grid_version} !grid number\n",
    "0 !network number\n",
    "{quadtree_levels} !highest level of quadtree\n",
    "{finest_grid_size} !finest grid spacing number of dem cells to lump\n",
    "{profile[\"width\"]} !ncols\n",
    "{profile[\"height\"]} !nrows\n",
    "{advection_2d} {advection_1d} !advection2d switch, advection1d switch\n",
    "{float(timestep_secs)}d0 !dt #settings: time_step\n",
    "0 {time_delta.components.days} {time_delta.components.hours} {time_delta.components.minutes} {time_delta.components.seconds} !total time of simulation  mon :: days :: hours :: mins :: seconds\n",
    "0 0 !number of 2d boundaries, number of 1d boundaries (skip if none), number of for boundary data file extension \n",
    "1 !npc,number of prediction correction steps for flooding default\n",
    "{initial_water_level} !initial waterlevel > 10^7 directs read from file sini_ generated from s00, otherwise water level applied everywhere\n",
    "{rainfall_version} !rain -> read from file if negative file extension number\n",
    "0  0.0d0 0.0d0 0.0d0 3600.0d0 0.0d0 !infiltration 2d parameters\n",
    "1.0d-5 !wetting threshold\n",
    "0 !number of pump locations\n",
    "\"\"\"\n",
    "# write\n",
    "input_settings_path.write_text(input_settings)\n",
    "\n",
    "# print\n",
    "print(input_settings)"
   ]
  },
  {
   "cell_type": "markdown",
   "id": "3377a68f",
   "metadata": {},
   "source": [
    "### Output-settings for your model-run (settings_output)\n",
    "\n",
    "In the cell below we define the output-settings used by the H2Flow core for this specific model run. We define the following variables:\n",
    "- <b>output_version:</b> output-version-number\n",
    "- <b>point_observations:</b> a list of tuples with (x,y) observation points\n",
    "- <b>horizontal_line_observations</b> a list with lines on the horizontal cell interfaces defined by start and end point [[(xstart,ystart) (xend, yend)]]\n",
    "- <b>vertical_line_observations</b> a list with lines on the vertical cell interfaces defined by start and end point [[(xstart,ystart) (xend, yend)]]"
   ]
  },
  {
   "cell_type": "code",
   "execution_count": 7,
   "id": "5b7a4bac",
   "metadata": {},
   "outputs": [
    {
     "name": "stdout",
     "output_type": "stream",
     "text": [
      "2014 07 27 21 00 00 !start date\n",
      "124434 458773 129571 464846 !bounding box\n",
      "28992 !epsg\n",
      "0.5 !dem resolution\n",
      "1 30 300 !logging display interval, interval in timesteps for 1d plots, interval in timesteps for 2d plots\n",
      "0.01 0.002 !ponding water level, velocity threshold for 2d plots\n",
      "0.05 0.001 !flowthreshold for 2d plots, hazard thresholds\n",
      "2 !number of water levels observation locations\n",
      "125023.549 463079.69\n",
      "127761.3 463951.612\n",
      "1 !number of horizontal cross-sections for discharge\n",
      "127831.5 464373.5 127975.5 464373.5 !horizontal line points left to right\n",
      "1 !number of vertical cross-sections for discharge\n",
      "127369.5 464423.5 127369.5 464539.5 !vertical line points bottom to top\n",
      "\n"
     ]
    }
   ],
   "source": [
    "output_version = 1\n",
    "\n",
    "# these can be later processed from feature-files\n",
    "point_observations = [(125023.549, 463079.690), (127761.300, 463951.612)]\n",
    "horizontal_line_observations = [[(127831.50, 464373.50), (127975.50, 464373.50)]]\n",
    "vertical_line_observations = [[(127369.50, 464423.50), (127369.50, 464539.50)]]\n",
    "\n",
    "# convert observation feature-maps to strings\n",
    "point_observations_str = \"\\n\".join([\" \".join(map(str, i)) for i in point_observations])\n",
    "horizontal_line_observations_str = \"\\n\".join([\" \".join([\" \".join(map(str, p)) for p in i]) for i in horizontal_line_observations])\n",
    "vertical_line_observations_str = \"\\n\".join([\" \".join([\" \".join(map(str, p)) for p in i]) for i in vertical_line_observations])\n",
    "\n",
    "# generate file path\n",
    "output_settings_file = f\"settings_output.  {output_version}\"\n",
    "output_settings_path = project_dir.joinpath(output_settings_file)\n",
    "\n",
    "# generate file string\n",
    "output_settings=f\"\"\"{ref_datetime.strftime(\"%Y %m %d %H %M %S\")} !start date\n",
    "{bounds} !bounding box\n",
    "{profile[\"crs\"].to_epsg()} !epsg\n",
    "{dem_res} !dem resolution\n",
    "1 30 300 !logging display interval, interval in timesteps for 1d plots, interval in timesteps for 2d plots\n",
    "0.01 0.002 !ponding water level, velocity threshold for 2d plots\n",
    "0.05 0.001 !flowthreshold for 2d plots, hazard thresholds\n",
    "{len(point_observations)} !number of water levels observation locations\n",
    "{point_observations_str}\n",
    "{len(horizontal_line_observations)} !number of horizontal cross-sections for discharge\n",
    "{horizontal_line_observations_str} !horizontal line points left to right\n",
    "{len(vertical_line_observations)} !number of vertical cross-sections for discharge\n",
    "{vertical_line_observations_str} !vertical line points bottom to top\n",
    "\"\"\"\n",
    "\n",
    "# write\n",
    "output_settings_path.write_text(output_settings)\n",
    "\n",
    "# print\n",
    "print(output_settings)"
   ]
  },
  {
   "cell_type": "markdown",
   "id": "48a4918b",
   "metadata": {},
   "source": [
    "### Numerical settings for the computational core (settings_omp)\n",
    "\n",
    "In the cell below we will define mathematic and machine settings for the computation core. These are generally defined once and are in principal independant of the model-run or project-area.\n",
    "- <b>comp_version:</b> version of computational settings\n",
    "- <b>number_cores:</b> amound of CPU cores used in computation"
   ]
  },
  {
   "cell_type": "code",
   "execution_count": 8,
   "id": "31021740",
   "metadata": {
    "scrolled": true
   },
   "outputs": [
    {
     "name": "stdout",
     "output_type": "stream",
     "text": [
      "4 !default max. degree of elimination\n",
      "1 !preconditioner for conjugate gradient\n",
      "20 !ncore, number of threads or cores\n",
      "20 !m_omp - vertical slices \n",
      "1 !n_omp  - horizontal slices\n",
      "8 !maximum number of non-linear iterations  # settings: max_nonlin_iterations\n",
      "-8 !mineps=10**maxeps is maximum error in non-linear iterations  # settings.convergence_eps\n",
      "100 1.0d-9 !default number of iteration and tolerance for solver\n",
      ".0d0 0.3 !tetac, integration method: 0=standard Euler implicit,1=Carlson implicit, 2=Silecki explicit  # settings: integration_method\n",
      "0 !use_of_nested_newton: 0=no, 1=yes, default=0\n",
      "1.0 !pump proportion - default 1.0\n",
      "1 0.045 !manning - overriden by values from files\n",
      ".0d0 !dry volume\n",
      "1.0d-2 !velocity threshold for friction\n",
      "0.0 !1d calculation slot width\n",
      "2 0.0 !thinlayer treatment option, threshold\n",
      "\n"
     ]
    }
   ],
   "source": [
    "comp_version = 1\n",
    "number_cores = 20\n",
    "\n",
    "# generate file path\n",
    "comp_settings_file = f\"settings_omp.  {comp_version}\"\n",
    "comp_settings_path = project_dir.joinpath(comp_settings_file)\n",
    "\n",
    "comp_settings = f\"\"\"4 !default max. degree of elimination\n",
    "1 !preconditioner for conjugate gradient\n",
    "{number_cores} !ncore, number of threads or cores\n",
    "{number_cores} !m_omp - vertical slices \n",
    "1 !n_omp  - horizontal slices\n",
    "8 !maximum number of non-linear iterations  # settings: max_nonlin_iterations\n",
    "-8 !mineps=10**maxeps is maximum error in non-linear iterations  # settings.convergence_eps\n",
    "100 1.0d-9 !default number of iteration and tolerance for solver\n",
    ".0d0 0.3 !tetac, integration method: 0=standard Euler implicit,1=Carlson implicit, 2=Silecki explicit  # settings: integration_method\n",
    "0 !use_of_nested_newton: 0=no, 1=yes, default=0\n",
    "1.0 !pump proportion - default 1.0\n",
    "1 0.045 !manning - overriden by values from files\n",
    ".0d0 !dry volume\n",
    "1.0d-2 !velocity threshold for friction\n",
    "0.0 !1d calculation slot width\n",
    "2 0.0 !thinlayer treatment option, threshold\n",
    "\"\"\"\n",
    "\n",
    "# write\n",
    "comp_settings_path.write_text(comp_settings)\n",
    "\n",
    "# print\n",
    "print(comp_settings)"
   ]
  },
  {
   "cell_type": "markdown",
   "id": "50ec80d0",
   "metadata": {},
   "source": [
    "## 3. Write IO root\n",
    "\n",
    "With ioroot we link the input-files to a directory where we store the results of the model-run. This file is picked up by the grid-generator and h2flow computation core\n",
    "\n",
    "- <b>result_dir:</b> directory to write the results to"
   ]
  },
  {
   "cell_type": "code",
   "execution_count": 9,
   "id": "6683191f",
   "metadata": {},
   "outputs": [
    {
     "name": "stdout",
     "output_type": "stream",
     "text": [
      "../data/case#\n",
      "../data/case/001_rainfall_on_grid/\n",
      "1\n",
      "\n"
     ]
    }
   ],
   "source": [
    "result_dir = \"001_rainfall_on_grid\"\n",
    "\n",
    "# generate file path\n",
    "ioroot_file = \"ioroot.zzz\"\n",
    "ioroot_path = run_dir.joinpath(ioroot_file)\n",
    "\n",
    "ioroot = f\"\"\"{PurePosixPath(project_dir)}#\n",
    "{PurePosixPath(project_dir)}/{result_dir}/\n",
    "{run_number}\n",
    "\"\"\"\n",
    "\n",
    "# write\n",
    "ioroot_path.write_text(ioroot)\n",
    "\n",
    "# print\n",
    "print(ioroot)"
   ]
  }
 ],
 "metadata": {
  "kernelspec": {
   "display_name": "Python 3",
   "language": "python",
   "name": "python3"
  },
  "language_info": {
   "codemirror_mode": {
    "name": "ipython",
    "version": 3
   },
   "file_extension": ".py",
   "mimetype": "text/x-python",
   "name": "python",
   "nbconvert_exporter": "python",
   "pygments_lexer": "ipython3",
   "version": "3.8.8"
  }
 },
 "nbformat": 4,
 "nbformat_minor": 5
}
