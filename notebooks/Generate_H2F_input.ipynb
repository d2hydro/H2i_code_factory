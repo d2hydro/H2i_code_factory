{
 "cells": [
  {
   "cell_type": "markdown",
   "id": "31f0914c",
   "metadata": {},
   "source": [
    "# Case 1: rainfall on DEM\n",
    "\n",
    "With this notebook we will:\n",
    "- Process the HydroDEM into H2Flow ASCI dem\n",
    "- Define the settings for H2Flow grid generator\n",
    "- Process ASCII rainfall to a H2Flow timeseries"
   ]
  },
  {
   "cell_type": "code",
   "execution_count": 1,
   "id": "3af5b886",
   "metadata": {},
   "outputs": [],
   "source": [
    "import rasterio\n",
    "from pathlib import Path\n",
    "import geopandas as gpd\n",
    "import pandas as pd\n",
    "from rasterio.features import rasterize\n",
    "import copy"
   ]
  },
  {
   "cell_type": "markdown",
   "id": "cbda3685",
   "metadata": {},
   "source": [
    "# Prepare input data:\n",
    "\n",
    "Prepare the input for this notebook by:\n",
    "- downloading your data from: https://drive.google.com/drive/folders/1e3kjUWD-ikHo_TSmjCY86QyL-40R9xt3?usp=sharing.\n",
    "- putting the data into ..\\data\\de_tol relative to the path-location of this notebook.\n",
    "\n",
    "Below the input paths are defined, they should all exist"
   ]
  },
  {
   "cell_type": "code",
   "execution_count": 2,
   "id": "c003adde",
   "metadata": {},
   "outputs": [],
   "source": [
    "#input paths\n",
    "data_path = Path(r\"..\\data\\de_tol\")\n",
    "dem_tif = data_path.joinpath(\"dem_kockengen_20160905.tif\")\n",
    "wla_gpkg = data_path.joinpath(\"waterlevel_areas.gpkg\")\n",
    "gauges_gpkg = data_path.joinpath(\"gauges.gpkg\")\n",
    "rainfall_path = data_path.joinpath(\"rainfall\")"
   ]
  },
  {
   "cell_type": "markdown",
   "id": "c31e1c51",
   "metadata": {},
   "source": [
    "# Define output and settings:\n",
    "\n",
    "These will be used in writing output:\n",
    "- dem_version: version number of the dem-file\n",
    "- grid_version: version of the grid to be generated\n",
    "- grid_size: grid_size for the computational grid in unit-sizes of the original dem cell-size"
   ]
  },
  {
   "cell_type": "code",
   "execution_count": 3,
   "id": "70d5b5d0",
   "metadata": {},
   "outputs": [],
   "source": [
    "# project_directory\n",
    "project_dir = data_path.joinpath(\"case\")\n",
    "project_dir.mkdir(parents=True, exist_ok=True)\n",
    "\n",
    "# set all versions\n",
    "dem_version = 1\n",
    "grid_version = 1\n",
    "finest_grid_size = 20"
   ]
  },
  {
   "cell_type": "markdown",
   "id": "dd0ebde0",
   "metadata": {},
   "source": [
    "# Building the project-files:\n",
    "\n",
    "Now we will start to do the actual work:\n",
    "1. Read the GeoTIFF into memory\n",
    "2. Convert the DEM into a H2F compatible ESRI ASCII file\n",
    "3. Write the settings_file for the H2Flow grid_generator\n",
    "4. Sample the Rainfall ESRI ASCII-files into a H2F compatible CSV-file"
   ]
  },
  {
   "cell_type": "markdown",
   "id": "6208fafb",
   "metadata": {},
   "source": [
    "## 1. Read the GeoTIFF into memory\n",
    "\n",
    "We read the original DEM (GeoTIFF) and change the profile that we'll use later to write the output to AAIGrid (ESRI ASCI grid)."
   ]
  },
  {
   "cell_type": "code",
   "execution_count": 4,
   "id": "d7b2cd17",
   "metadata": {},
   "outputs": [
    {
     "name": "stdout",
     "output_type": "stream",
     "text": [
      "{'driver': 'AAIGrid', 'dtype': 'float32', 'nodata': -9999.0, 'width': 10274, 'height': 12146, 'count': 1, 'crs': CRS.from_epsg(28992), 'transform': Affine(0.5, 0.0, 124434.5,\n",
      "       0.0, -0.5, 464846.0), 'tiled': False, 'compress': 'deflate', 'interleave': 'band'}\n"
     ]
    }
   ],
   "source": [
    "with rasterio.open(dem_tif) as src:\n",
    "    profile = src.profile\n",
    "    data = src.read(1)\n",
    "\n",
    "profile[\"driver\"] = \"AAIGrid\"\n",
    "\n",
    "print(profile)"
   ]
  },
  {
   "cell_type": "markdown",
   "id": "5d4f99c9",
   "metadata": {},
   "source": [
    "## 2. Convert the DEM into a H2F compatible ESRI ASCII file\n",
    "\n",
    "We include the following parameters in the dem_file name and write it in the project_directory:\n",
    "- profile[\"width\"]: number of columns in the DEM\n",
    "- profile[\"height\"]: number of rows in the DEM\n",
    "- dem_version: version of the DEM"
   ]
  },
  {
   "cell_type": "code",
   "execution_count": 5,
   "id": "cefeca71",
   "metadata": {},
   "outputs": [],
   "source": [
    "dem_file = f'depthasci,imax= {profile[\"width\"]},jmax= {profile[\"height\"]},netw1d=  0.  {dem_version}'\n",
    "\n",
    "with rasterio.open(project_dir.joinpath(dem_file), \"w+\", **profile) as dst:\n",
    "    dst.write(data, 1)"
   ]
  },
  {
   "cell_type": "markdown",
   "id": "2d273f44",
   "metadata": {},
   "source": [
    "## 3. Write the grid-generator settings-file\n",
    "\n",
    "Below the settings that will be used by the grid-generator with the following information on each line:\n",
    "- grid_version & dem_version: version of the DEM and the grid to be generated\n",
    "- quadtree_levels: We will not generate a quadtree here, so keep it at 1\n",
    "- finest_grid_size: The smallest grid-size in units of cell-size of the original DEM\n",
    "- profile[\"height\"] & profile[\"width\"]\n",
    "- sub-grid parameters: Defining accuracy on how the dem is processed in the H2Flow grid\n",
    "- manning_friction: we will use a constant-value of 0.04 \n",
    "- infiltration: we will use no infiltration here\n",
    "- initial level: we will use a constant value of -1.8"
   ]
  },
  {
   "cell_type": "code",
   "execution_count": 6,
   "id": "e300a7ad",
   "metadata": {},
   "outputs": [
    {
     "name": "stdout",
     "output_type": "stream",
     "text": [
      "\n",
      "  1  1  0   0 !grid number, depthfile, 1D network, Ridges number\n",
      "  1  ! quadtree max. level\n",
      "  20  ! finest coarse grid resolution (how many dem pixels do you lump together?)\n",
      " 10274  ! ncols\n",
      " 12146  ! nrows\n",
      " 0.25  0.25  1.0    ! table_step_size,subgrid params,1d spacing\n",
      " 0.04  1 ! manning value \n",
      "   0   1.0   20.0  !infiltration parameters - inactive with 0\n",
      "  -1.8  0   ! initial water level default and file for s00, 0 means no files\n",
      "  \n"
     ]
    }
   ],
   "source": [
    "quadtree_levels = 1\n",
    "manning_value = 0.04\n",
    "initial_level = -1.8\n",
    "\n",
    "grid_gen_file = f\"input_grid_gen.  {grid_version}\"\n",
    "grid_gen_path = project_dir.joinpath(grid_gen_file)\n",
    "\n",
    "grid_gen_settings = f\"\"\"\n",
    "  {grid_version}  {dem_version}  0   0 !grid number, depthfile, 1D network, Ridges number\n",
    "  1  ! quadtree max. level\n",
    "  20  ! finest coarse grid resolution (how many dem pixels do you lump together?)\n",
    " {profile[\"width\"]}  ! ncols\n",
    " {profile[\"height\"]}  ! nrows\n",
    " 0.25  0.25  1.0    ! table_step_size,subgrid params,1d spacing\n",
    " 0.04  1 ! manning value \n",
    "   0   1.0   20.0  !infiltration parameters - inactive with 0\n",
    "  {initial_level}  0   ! initial water level default and file for s00, 0 means no files\n",
    "  \"\"\"\n",
    "\n",
    "grid_gen_path.write_text(grid_gen_settings)\n",
    "\n",
    "print(grid_gen_settings)"
   ]
  },
  {
   "cell_type": "markdown",
   "id": "327fa196",
   "metadata": {},
   "source": [
    "## 4. Sample the Rainfall ESRI ASCII-files into a H2F compatible CSV-file\n",
    "\n",
    "Sample rainfall ASCII to series to a pandas dataframe and save it as H2Flow rainfall-CSV with:\n",
    "- line 1: indicating a single rainfall gauge, and the level and time parameters to convert to rainfall rate (m/s)\n",
    "- line 2: indicating the bounding box (xmin, ymin, xmax, ymax) of the rainfall gauge\n",
    "- line 3+, col 0:4: the rainfall values: days, hours, minutes, seconds from start of simulation\n",
    "- line 3+, col 5: the rainfall value in mm over the last timestep"
   ]
  },
  {
   "cell_type": "code",
   "execution_count": 7,
   "id": "a74badc2",
   "metadata": {},
   "outputs": [
    {
     "name": "stderr",
     "output_type": "stream",
     "text": [
      "C:\\Anaconda3\\envs\\work\\lib\\site-packages\\geopandas\\geodataframe.py:577: RuntimeWarning: Sequential read of iterator was interrupted. Resetting iterator. This can negatively impact the performance.\n",
      "  for feature in features_lst:\n"
     ]
    },
    {
     "name": "stdout",
     "output_type": "stream",
     "text": [
      "-1 0.001 -3600.0\n",
      " 1  0.0  0.0  1.0e7  1.0e7\n",
      " 0,00,00,0,0.00\n",
      "0,01,00,0,0.00\n",
      "0,02,00,0,17.23\n",
      "0,03,00,0,1.27\n",
      "0,04,00,0,4.02\n",
      "0,05,00,0,0.00\n",
      "0,06,00,0,0.00\n",
      "0,07,00,0,0.00\n",
      "0,08,00,0,15.29\n",
      "0,09,00,0,0.00\n",
      "0,10,00,0,0.34\n",
      "0,11,00,0,17.56\n",
      "0,12,00,0,39.75\n",
      "0,13,00,0,33.85\n",
      "0,14,00,0,0.16\n",
      "0,15,00,0,0.05\n",
      "0,16,00,0,1.55\n",
      "0,17,00,0,0.04\n",
      "0,18,00,0,0.00\n",
      "0,19,00,0,0.00\n",
      "0,20,00,0,0.00\n",
      "0,21,00,0,0.00\n",
      "0,22,00,0,0.00\n",
      "0,23,00,0,0.00\n",
      "1,00,00,0,0.00\n",
      "\n"
     ]
    }
   ],
   "source": [
    "m_conversion = 0.001\n",
    "sec_conversion = -3600.0\n",
    "\n",
    "rainfall_ascs = rainfall_path.glob(\"*.ASC\")\n",
    "gdf = gpd.read_file(gauges_gpkg)\n",
    "xy = [(geom.x, geom.y) for geom in gdf[\"geometry\"]]\n",
    "columns = {\"days\": int, \"hours\": str, \"minutes\": str, \"seconds\": int, \"value\": float}\n",
    "df = pd.DataFrame(columns=columns)\n",
    "\n",
    "for idx, asc in enumerate(rainfall_ascs):\n",
    "    datetime = pd.to_datetime(asc.stem, format=\"NSL_%Y%m%d_%H\")\n",
    "\n",
    "    if idx == 0:\n",
    "        ref_datetime = copy.copy(datetime)\n",
    "\n",
    "    time_delta = datetime - ref_datetime\n",
    "\n",
    "    days = time_delta.components.days\n",
    "    hours = f\"{time_delta.components.hours:02d}\"\n",
    "    minutes = f\"{time_delta.components.minutes:02d}\"\n",
    "    seconds = time_delta.components.seconds\n",
    "\n",
    "    with rasterio.open(asc) as src:\n",
    "        value = [val[0] for val in src.sample(xy)][0]\n",
    "        df.loc[idx] = [days, hours, minutes, seconds, value]\n",
    "\n",
    "\n",
    "rain_path = project_dir.joinpath(\"rain. -1\")\n",
    "\n",
    "header = f\"\"\"-1 {m_conversion} {sec_conversion}\n",
    " 1  0.0  0.0  1.0e7  1.0e7\n",
    " \"\"\"\n",
    "\n",
    "rain_path.write_text(header)\n",
    "\n",
    "df.astype(columns).to_csv(\n",
    "    rain_path, mode=\"a\", index=False, header=False, float_format=\"%.2f\"\n",
    ")\n",
    "\n",
    "print(rain_path.read_text())"
   ]
  },
  {
   "cell_type": "markdown",
   "id": "5dace8e4",
   "metadata": {},
   "source": [
    "# This part will be deleted from this notebook and will be part of a new, more complex, case!!"
   ]
  },
  {
   "cell_type": "markdown",
   "id": "5a3e3c9c",
   "metadata": {},
   "source": [
    "### Water-level-areas to initial water-level ascii\n",
    "\n",
    "We burn water-levels in the following order:\n",
    "1. VASTPEIL (fixed level) as default\n",
    "2. ZOMERPEIL (summer level) if 1 is nan\n",
    "3. (ONDERPEIL + BOVENPEIL) / 2 if 2 is still nan"
   ]
  },
  {
   "cell_type": "code",
   "execution_count": 8,
   "id": "9cd46e2b",
   "metadata": {},
   "outputs": [],
   "source": [
    "gdf = gpd.read_file(wla_gpkg, bbox=src.bounds)\n",
    "gdf.loc[:, \"LEVEL\"] = gdf[\"VASTPEIL\"]\n",
    "gdf.loc[gdf[\"LEVEL\"].isna(), \"LEVEL\"] = gdf[\"ZOMERPEIL\"]\n",
    "gdf.loc[gdf[\"LEVEL\"].isna(), \"LEVEL\"] = (gdf[\"BOVENPEIL\"] + gdf[\"ONDERPEIL\"]) / 2\n",
    "\n",
    "data = data * 0 + profile[\"nodata\"]\n",
    "shapes = ((row[\"geometry\"], row[\"LEVEL\"]) for _, row in gdf.iterrows())\n",
    "rasterize(shapes, out=data, out_shape=src.res, transform=profile[\"transform\"])\n",
    "\n",
    "with rasterio.open(project_dir.joinpath(\"init_wl.asc\"), \"w+\", **profile) as dst:\n",
    "    dst.write(data, 1)"
   ]
  },
  {
   "cell_type": "markdown",
   "id": "ecfdc826",
   "metadata": {},
   "source": [
    "### Friction to ASCII\n",
    "\n",
    "For now we apply a fixed manning roughness coefficient of 0.04 for the entire grid: https://www.engineeringtoolbox.com/mannings-roughness-d_799.html. Later we can vary with landuse/landcover."
   ]
  },
  {
   "cell_type": "code",
   "execution_count": 9,
   "id": "96204c13",
   "metadata": {},
   "outputs": [],
   "source": [
    "data = data * 0  + 0.04\n",
    "\n",
    "with rasterio.open(project_dir.joinpath(\"friction.asc\"), \"w+\", **profile) as dst:\n",
    "    dst.write(data, 1)"
   ]
  }
 ],
 "metadata": {
  "kernelspec": {
   "display_name": "Python 3",
   "language": "python",
   "name": "python3"
  },
  "language_info": {
   "codemirror_mode": {
    "name": "ipython",
    "version": 3
   },
   "file_extension": ".py",
   "mimetype": "text/x-python",
   "name": "python",
   "nbconvert_exporter": "python",
   "pygments_lexer": "ipython3",
   "version": "3.8.8"
  }
 },
 "nbformat": 4,
 "nbformat_minor": 5
}
