{
 "cells": [
  {
   "cell_type": "code",
   "execution_count": 1,
   "id": "815717fd",
   "metadata": {},
   "outputs": [],
   "source": [
    "import rasterio\n",
    "from pathlib import Path\n",
    "import geopandas as gpd\n",
    "import pandas as pd\n",
    "from rasterio.features import rasterize"
   ]
  },
  {
   "cell_type": "markdown",
   "id": "88bd19e7",
   "metadata": {},
   "source": [
    "# definitions:\n",
    "\n",
    "Data can be downloaded at: https://drive.google.com/drive/folders/1e3kjUWD-ikHo_TSmjCY86QyL-40R9xt3?usp=sharing. This data goes into ..\\data\\de_tol relative to the path-location of this notebook."
   ]
  },
  {
   "cell_type": "code",
   "execution_count": 2,
   "id": "dbb974db",
   "metadata": {},
   "outputs": [],
   "source": [
    "#input\n",
    "data_path = Path(r\"..\\data\\de_tol\")\n",
    "dem_tif = data_path.joinpath(\"dem_kockengen_20160905.tif\")\n",
    "wla_gpkg = data_path.joinpath(\"waterlevel_areas.gpkg\")\n",
    "gauges_gpkg = data_path.joinpath(\"gauges.gpkg\")\n",
    "rainfall_path = data_path.joinpath(\"rainfall\")\n",
    "\n",
    "# output\n",
    "h2f_input_dir = data_path.joinpath(\"h2f_input\")\n",
    "h2f_input_dir.mkdir(parents=True, exist_ok=True)"
   ]
  },
  {
   "cell_type": "markdown",
   "id": "f4b5ddab",
   "metadata": {},
   "source": [
    "# convert:\n",
    "- DEM (GeoTIFF) to ascii: dem.asc\n",
    "- Water_level_areas (GeoPackage) to acii: init_wl.asc\n",
    "- Friction (constant_value) to ascii: friction.asc"
   ]
  },
  {
   "cell_type": "markdown",
   "id": "478f171e",
   "metadata": {},
   "source": [
    "### read the original DEM"
   ]
  },
  {
   "cell_type": "code",
   "execution_count": 3,
   "id": "9e0888d9",
   "metadata": {},
   "outputs": [],
   "source": [
    "with rasterio.open(dem_tif) as src:\n",
    "    profile = src.profile\n",
    "    data = src.read(1)\n",
    "\n",
    "profile[\"driver\"] = \"AAIGrid\""
   ]
  },
  {
   "cell_type": "markdown",
   "id": "7d3d2fc3",
   "metadata": {},
   "source": [
    "### Original DEM to ESRI ASCII"
   ]
  },
  {
   "cell_type": "code",
   "execution_count": 4,
   "id": "ca7de476",
   "metadata": {},
   "outputs": [],
   "source": [
    "with rasterio.open(h2f_input_dir.joinpath(\"dem.asc\"), \"w+\", **profile) as dst:\n",
    "    dst.write(data, 1)"
   ]
  },
  {
   "cell_type": "markdown",
   "id": "60de0ec3",
   "metadata": {},
   "source": [
    "### Water-level-areas to initial water-level ascii\n",
    "\n",
    "We burn water-levels in the following order:\n",
    "1. VASTPEIL (fixed level) as default\n",
    "2. ZOMERPEIL (summer level) if 1 is nan\n",
    "3. (ONDERPEIL + BOVENPEIL) / 2 if 2 is still nan"
   ]
  },
  {
   "cell_type": "code",
   "execution_count": null,
   "id": "68a36b5b",
   "metadata": {},
   "outputs": [
    {
     "name": "stderr",
     "output_type": "stream",
     "text": [
      "C:\\Anaconda3\\envs\\work\\lib\\site-packages\\geopandas\\geodataframe.py:577: RuntimeWarning: Sequential read of iterator was interrupted. Resetting iterator. This can negatively impact the performance.\n",
      "  for feature in features_lst:\n"
     ]
    }
   ],
   "source": [
    "gdf = gpd.read_file(wla_gpkg, bbox=src.bounds)\n",
    "gdf.loc[:, \"LEVEL\"] = gdf[\"VASTPEIL\"]\n",
    "gdf.loc[gdf[\"LEVEL\"].isna(), \"LEVEL\"] = gdf[\"ZOMERPEIL\"]\n",
    "gdf.loc[gdf[\"LEVEL\"].isna(), \"LEVEL\"] = (gdf[\"BOVENPEIL\"] + gdf[\"ONDERPEIL\"]) / 2\n",
    "\n",
    "data = data * 0 + profile[\"nodata\"]\n",
    "shapes = ((row[\"geometry\"], row[\"LEVEL\"]) for _, row in gdf.iterrows())\n",
    "rasterize(shapes, out=data, out_shape=src.res, transform=profile[\"transform\"])\n",
    "\n",
    "with rasterio.open(h2f_input_dir.joinpath(\"init_wl.asc\"), \"w+\", **profile) as dst:\n",
    "    dst.write(data, 1)"
   ]
  },
  {
   "cell_type": "markdown",
   "id": "b9b51c06",
   "metadata": {},
   "source": [
    "### Friction to ASCII\n",
    "\n",
    "For now we apply a fixed manning roughness coefficient of 0.04 for the entire grid: https://www.engineeringtoolbox.com/mannings-roughness-d_799.html. Later we can vary with landuse/landcover."
   ]
  },
  {
   "cell_type": "code",
   "execution_count": null,
   "id": "6de62d12",
   "metadata": {},
   "outputs": [],
   "source": [
    "data = data * 0  + 0.04\n",
    "\n",
    "with rasterio.open(h2f_input_dir.joinpath(\"friction.asc\"), \"w+\", **profile) as dst:\n",
    "    dst.write(data, 1)"
   ]
  },
  {
   "cell_type": "markdown",
   "id": "deb5c85d",
   "metadata": {},
   "source": [
    "### Rainfall ASCII to CSV\n",
    "\n",
    "Sample rainfall ASCII to series to a pandas dataframe and save it as csv"
   ]
  },
  {
   "cell_type": "code",
   "execution_count": null,
   "id": "4a66292e",
   "metadata": {},
   "outputs": [],
   "source": [
    "rainfall_ascs = rainfall_path.glob(\"*.ASC\")\n",
    "gdf = gpd.read_file(gauges_gpkg)\n",
    "xy = [(geom.x, geom.y) for geom in gdf[\"geometry\"]]\n",
    "cols = [\"datetime\"] + [i for i in gdf[\"ID\"]]\n",
    "df = pd.DataFrame(columns=cols)\n",
    "\n",
    "for idx, asc in enumerate(rainfall_ascs):\n",
    "    datetime = pd.to_datetime(asc.stem, format=\"NSL_%Y%m%d_%H\")\n",
    "    with rasterio.open(asc) as src:\n",
    "        values = [val[0] for val in src.sample(xy)]\n",
    "        df.loc[idx] = [datetime] + values\n",
    "        \n",
    "df.set_index(\"datetime\", inplace=True)\n",
    "df.to_csv(h2f_input_dir.joinpath(\"rainfall.csv\"),  float_format='%.2f')"
   ]
  }
 ],
 "metadata": {
  "kernelspec": {
   "display_name": "Python 3",
   "language": "python",
   "name": "python3"
  },
  "language_info": {
   "codemirror_mode": {
    "name": "ipython",
    "version": 3
   },
   "file_extension": ".py",
   "mimetype": "text/x-python",
   "name": "python",
   "nbconvert_exporter": "python",
   "pygments_lexer": "ipython3",
   "version": "3.8.8"
  }
 },
 "nbformat": 4,
 "nbformat_minor": 5
}
