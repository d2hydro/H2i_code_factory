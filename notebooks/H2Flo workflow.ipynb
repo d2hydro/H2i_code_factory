{
 "cells": [
  {
   "cell_type": "markdown",
   "id": "64c2be40",
   "metadata": {},
   "source": [
    "# Table of Contents\n",
    "\n",
    "* [1 Initialization](#chapter1)\n",
    "    * [1.1 Import Python packages](#section_1_1)\n",
    "    * [1.2 Initialize model](#section_1_2)\n",
    "    * [1.3 Modify settings](#section_1_3)\n",
    "* [2 Preprocessing](#chapter2)\n",
    "    * [2.1 2D model setup](#section_2_1)\n",
    "        * [2.1.1 setup model topology](#section_2_1_1)\n",
    "        * [2.1.2 setup manning friction](#section_2_1_2)\n",
    "        * [2.1.3 setup infiltration](#section_2_1_3)\n",
    "    * [2.2 1D model setup](#section_2_2)\n",
    "    * [2.3 1D-2 model-coupling](#section_2_3)\n",
    "    * [2.4 Boundary conditions](#section_2_4)\n",
    "        * [2.4.1 rainfall conditions](#section_2_4_1)\n",
    "        * [2.4.2 flow conditions](#section_2_4_2)\n",
    "    * [2.5 Initial conditions](#section_2_5)\n",
    "    * [2.6 Model cases](#section_2_6)\n",
    "* [3 Running models](#chapter3)\n",
    "    * [3.1 Grid-generator](#section_3_1)\n",
    "    * [3.2 Flow-computator](#section_3_2)\n",
    "* [4 Postprocessing](#chapter4)"
   ]
  },
  {
   "cell_type": "markdown",
   "id": "ca5244d0",
   "metadata": {},
   "source": [
    "# 1 Initialization <a class=\"anchor\" id=\"chapter1\"></a>\n",
    "\n",
    "## 1.1 Import Python packages <a class=\"anchor\" id=\"section_1_1\"></a>"
   ]
  },
  {
   "cell_type": "code",
   "execution_count": 1,
   "id": "1c2f1aea",
   "metadata": {},
   "outputs": [],
   "source": [
    "from pathlib import Path\n",
    "import geopandas as gpd"
   ]
  },
  {
   "cell_type": "markdown",
   "id": "fb620917",
   "metadata": {},
   "source": [
    "## 1.2 Initialize model <a class=\"anchor\" id=\"section_1_2\"></a>\n",
    "\n",
    "Here we \"initalize\" defining at least a:\n",
    "- project_name\n",
    "- project_path\n",
    "\n",
    "should output\n",
    "- directory structure (Vidura and Roop)\n",
    "- metadata.json in that directory structure (Jackie and Daniel)\n",
    "- default model settings-files in that directory structure; especially numeric settings"
   ]
  },
  {
   "cell_type": "code",
   "execution_count": null,
   "id": "4cdd64bd",
   "metadata": {},
   "outputs": [],
   "source": []
  },
  {
   "cell_type": "markdown",
   "id": "184b0c0f",
   "metadata": {},
   "source": [
    "## 1.3 Modify settings <a class=\"anchor\" id=\"section_1_3\"></a>\n",
    "\n",
    "Here modeller can customize default model settings for his/her project"
   ]
  },
  {
   "cell_type": "code",
   "execution_count": null,
   "id": "c78b8f8a",
   "metadata": {},
   "outputs": [],
   "source": []
  },
  {
   "cell_type": "markdown",
   "id": "3eecd605",
   "metadata": {},
   "source": [
    "# 2 Preprocessing <a class=\"anchor\" id=\"chapter2\"></a>\n",
    "\n",
    "Here we follow the user-requirement-documentation chapter 5. We:\n",
    "1. setup a 2D model: topology, manning and infiltration\n",
    "2. setup a 1D model\n",
    "3. couple the 1D to 2D model\n",
    "4. provide boundary conditions: rainfall and flow\n",
    "5. provide initial conditions\n",
    "6. define cases from models (1 t/m 3) boundary conditions (5) and initial conditions (6)\n",
    "\n",
    "## 2.1 2D model setup <a class=\"anchor\" id=\"section_2_1\"></a>\n",
    "\n",
    "### 2.1.1 setup model topology <a class=\"anchor\" id=\"section_2_1_1\"></a>"
   ]
  },
  {
   "cell_type": "code",
   "execution_count": null,
   "id": "9152896a",
   "metadata": {},
   "outputs": [],
   "source": []
  },
  {
   "cell_type": "markdown",
   "id": "74de75e9",
   "metadata": {},
   "source": [
    "### 2.1.2 setup manning friction <a class=\"anchor\" id=\"section_2_1_2\"></a>"
   ]
  },
  {
   "cell_type": "code",
   "execution_count": null,
   "id": "3017d3d9",
   "metadata": {},
   "outputs": [],
   "source": []
  },
  {
   "cell_type": "markdown",
   "id": "d9797950",
   "metadata": {},
   "source": [
    "### 2.1.3 setup infiltration <a class=\"anchor\" id=\"section_2_1_3\"></a>"
   ]
  },
  {
   "cell_type": "code",
   "execution_count": null,
   "id": "5dc2fb4e",
   "metadata": {},
   "outputs": [],
   "source": []
  },
  {
   "cell_type": "markdown",
   "id": "f1340dfc",
   "metadata": {},
   "source": [
    "## 2.2 1D model setup <a class=\"anchor\" id=\"section_2_2\"></a>"
   ]
  },
  {
   "cell_type": "code",
   "execution_count": null,
   "id": "55568ad1",
   "metadata": {},
   "outputs": [],
   "source": []
  },
  {
   "cell_type": "markdown",
   "id": "a2168ed6",
   "metadata": {},
   "source": [
    "## 2.3 1D-2D model-coupling <a class=\"anchor\" id=\"section_2_3\"></a>"
   ]
  },
  {
   "cell_type": "code",
   "execution_count": null,
   "id": "4746d346",
   "metadata": {},
   "outputs": [],
   "source": []
  },
  {
   "cell_type": "markdown",
   "id": "c96ba377",
   "metadata": {},
   "source": [
    "## 2.4 Boundary conditions <a class=\"anchor\" id=\"section_2_4\"></a>\n",
    "\n",
    "### 2.4.1 rainfall conditions <a class=\"anchor\" id=\"section_2_4_1\"></a>"
   ]
  },
  {
   "cell_type": "code",
   "execution_count": null,
   "id": "040cf8b8",
   "metadata": {},
   "outputs": [],
   "source": []
  },
  {
   "cell_type": "markdown",
   "id": "a4676611",
   "metadata": {},
   "source": [
    "### 2.4.2 flow conditions <a class=\"anchor\" id=\"section_2_4_2\"></a>"
   ]
  },
  {
   "cell_type": "code",
   "execution_count": null,
   "id": "04998989",
   "metadata": {},
   "outputs": [],
   "source": []
  },
  {
   "cell_type": "markdown",
   "id": "9beb893b",
   "metadata": {},
   "source": [
    "## 2.5 Initial conditions <a class=\"anchor\" id=\"section_2_5\"></a>"
   ]
  },
  {
   "cell_type": "code",
   "execution_count": null,
   "id": "046c1dfd",
   "metadata": {},
   "outputs": [],
   "source": []
  },
  {
   "cell_type": "markdown",
   "id": "8ccd5a1f",
   "metadata": {},
   "source": [
    "## 2.6 Model cases <a class=\"anchor\" id=\"section_2_6\"></a>"
   ]
  },
  {
   "cell_type": "code",
   "execution_count": null,
   "id": "736e2454",
   "metadata": {},
   "outputs": [],
   "source": []
  },
  {
   "cell_type": "markdown",
   "id": "9df911be",
   "metadata": {},
   "source": [
    "# 3 Running models <a class=\"anchor\" id=\"chapter3\"></a>\n",
    "\n",
    "Here we go trough the model-executing process by:\n",
    "1. Generate grid(2) and inspect the result\n",
    "2. Computate flow and inspect results at selected locations\n",
    "\n",
    "## 3.1 Grid-generator <a class=\"anchor\" id=\"section_3.1\"></a>"
   ]
  },
  {
   "cell_type": "code",
   "execution_count": null,
   "id": "4def4281",
   "metadata": {},
   "outputs": [],
   "source": []
  },
  {
   "cell_type": "markdown",
   "id": "4ee143c2",
   "metadata": {},
   "source": [
    "## 3.2 Flow-computator <a class=\"anchor\" id=\"section_3.2\"></a>"
   ]
  },
  {
   "cell_type": "code",
   "execution_count": null,
   "id": "fd1e7cfd",
   "metadata": {},
   "outputs": [],
   "source": []
  },
  {
   "cell_type": "markdown",
   "id": "ab07bde8",
   "metadata": {},
   "source": [
    "# 4 Postprocessing <a class=\"anchor\" id=\"chapter4\"></a>\n",
    "\n",
    "Here we need sections on postprocessing"
   ]
  }
 ],
 "metadata": {
  "kernelspec": {
   "display_name": "Python 3 (ipykernel)",
   "language": "python",
   "name": "python3"
  },
  "language_info": {
   "codemirror_mode": {
    "name": "ipython",
    "version": 3
   },
   "file_extension": ".py",
   "mimetype": "text/x-python",
   "name": "python",
   "nbconvert_exporter": "python",
   "pygments_lexer": "ipython3",
   "version": "3.9.6"
  }
 },
 "nbformat": 4,
 "nbformat_minor": 5
}
