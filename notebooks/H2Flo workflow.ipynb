{
 "cells": [
  {
   "cell_type": "markdown",
   "id": "64c2be40",
   "metadata": {},
   "source": [
    "# Table of Contents\n",
    "\n",
    "* [1 Initialization](#chapter1)\n",
    "    * [1.1 Import Python packages](#section_1_1)\n",
    "    * [1.2 Initialize model](#section_1_2)\n",
    "    * [1.3 Modify settings](#section_1_3)\n",
    "* [2 Preprocessing](#chapter2)\n",
    "    * [2.1 2D model setup](#section_2_1)\n",
    "        * [2.1.1 setup model topology](#section_2_1_1)\n",
    "        * [2.1.2 setup manning friction](#section_2_1_2)\n",
    "        * [2.1.3 setup infiltration](#section_2_1_3)\n",
    "    * [2.2 1D model setup](#section_2_2)\n",
    "    * [2.3 1D-2 model-coupling](#section_2_3)\n",
    "    * [2.4 Boundary conditions](#section_2_4)\n",
    "        * [2.4.1 rainfall conditions](#section_2_4_1)\n",
    "        * [2.4.2 flow conditions](#section_2_4_2)\n",
    "    * [2.5 Initial conditions](#section_2_5)\n",
    "    * [2.6 Model cases](#section_2_6)\n",
    "* [3 Running models](#chapter3)\n",
    "    * [3.1 Grid-generator](#section_3_1)\n",
    "        * [3.1.3 Process geopackage](#section_3_1_3)    \n",
    "    * [3.2 Flow-computator](#section_3_2)\n",
    "* [4 Postprocessing](#chapter4)\n",
    "    * [4.1 Read 2D network](#section_4_1)\n",
    "        * [4.1.1 Point timeseries](#section_4_1_1)\n",
    "        * [4.1.2 Discharge cross-section](#section_4_1_2)\n",
    "        * [4.1.3 Get waterlevel profile](#section_4_1_3)"
   ]
  },
  {
   "cell_type": "markdown",
   "id": "ca5244d0",
   "metadata": {},
   "source": [
    "# 1 Initialization <a class=\"anchor\" id=\"chapter1\"></a>\n",
    "\n",
    "## 1.1 Import Python packages <a class=\"anchor\" id=\"section_1_1\"></a>"
   ]
  },
  {
   "cell_type": "code",
   "execution_count": 1,
   "id": "1c2f1aea",
   "metadata": {},
   "outputs": [],
   "source": [
    "from pathlib import Path\n",
    "import geopandas as gpd\n",
    "from shapely.geometry import LineString, Point"
   ]
  },
  {
   "cell_type": "markdown",
   "id": "fb620917",
   "metadata": {},
   "source": [
    "## 1.2 Initialize model <a class=\"anchor\" id=\"section_1_2\"></a>\n",
    "\n",
    "Here we \"initalize\" defining at least a:\n",
    "- project_name\n",
    "- project_path\n",
    "\n",
    "should output\n",
    "- directory structure (Vidura and Roop)\n",
    "- metadata.json in that directory structure (Jackie and Daniel)\n",
    "- default model settings-files in that directory structure; especially numeric settings"
   ]
  },
  {
   "cell_type": "code",
   "execution_count": 2,
   "id": "4cdd64bd",
   "metadata": {},
   "outputs": [],
   "source": [
    "project_dir = Path(r\"../data/de_tol_small\")\n",
    "case_name = \"case1\"\n",
    "case_dir = project_dir / case_name\n",
    "crs = 28992"
   ]
  },
  {
   "cell_type": "markdown",
   "id": "184b0c0f",
   "metadata": {},
   "source": [
    "## 1.3 Modify settings <a class=\"anchor\" id=\"section_1_3\"></a>\n",
    "\n",
    "Here modeller can customize default model settings for his/her project"
   ]
  },
  {
   "cell_type": "code",
   "execution_count": null,
   "id": "c78b8f8a",
   "metadata": {},
   "outputs": [],
   "source": []
  },
  {
   "cell_type": "markdown",
   "id": "3eecd605",
   "metadata": {},
   "source": [
    "# 2 Preprocessing <a class=\"anchor\" id=\"chapter2\"></a>\n",
    "\n",
    "Here we follow the user-requirement-documentation chapter 5. We:\n",
    "1. setup a 2D model: topology, manning and infiltration\n",
    "2. setup a 1D model\n",
    "3. couple the 1D to 2D model\n",
    "4. provide boundary conditions: rainfall and flow\n",
    "5. provide initial conditions\n",
    "6. define cases from models (1 t/m 3) boundary conditions (5) and initial conditions (6)\n",
    "\n",
    "## 2.1 2D model setup <a class=\"anchor\" id=\"section_2_1\"></a>\n",
    "\n",
    "### 2.1.1 setup model topology <a class=\"anchor\" id=\"section_2_1_1\"></a>"
   ]
  },
  {
   "cell_type": "code",
   "execution_count": null,
   "id": "9152896a",
   "metadata": {},
   "outputs": [],
   "source": []
  },
  {
   "cell_type": "markdown",
   "id": "74de75e9",
   "metadata": {},
   "source": [
    "### 2.1.2 setup manning friction <a class=\"anchor\" id=\"section_2_1_2\"></a>"
   ]
  },
  {
   "cell_type": "code",
   "execution_count": null,
   "id": "3017d3d9",
   "metadata": {},
   "outputs": [],
   "source": []
  },
  {
   "cell_type": "markdown",
   "id": "d9797950",
   "metadata": {},
   "source": [
    "### 2.1.3 setup infiltration <a class=\"anchor\" id=\"section_2_1_3\"></a>"
   ]
  },
  {
   "cell_type": "code",
   "execution_count": null,
   "id": "5dc2fb4e",
   "metadata": {},
   "outputs": [],
   "source": []
  },
  {
   "cell_type": "markdown",
   "id": "f1340dfc",
   "metadata": {},
   "source": [
    "## 2.2 1D model setup <a class=\"anchor\" id=\"section_2_2\"></a>"
   ]
  },
  {
   "cell_type": "code",
   "execution_count": null,
   "id": "55568ad1",
   "metadata": {},
   "outputs": [],
   "source": []
  },
  {
   "cell_type": "markdown",
   "id": "a2168ed6",
   "metadata": {},
   "source": [
    "## 2.3 1D-2D model-coupling <a class=\"anchor\" id=\"section_2_3\"></a>"
   ]
  },
  {
   "cell_type": "code",
   "execution_count": null,
   "id": "4746d346",
   "metadata": {},
   "outputs": [],
   "source": []
  },
  {
   "cell_type": "markdown",
   "id": "c96ba377",
   "metadata": {},
   "source": [
    "## 2.4 Boundary conditions <a class=\"anchor\" id=\"section_2_4\"></a>\n",
    "\n",
    "### 2.4.1 rainfall conditions <a class=\"anchor\" id=\"section_2_4_1\"></a>"
   ]
  },
  {
   "cell_type": "code",
   "execution_count": null,
   "id": "040cf8b8",
   "metadata": {},
   "outputs": [],
   "source": []
  },
  {
   "cell_type": "markdown",
   "id": "a4676611",
   "metadata": {},
   "source": [
    "### 2.4.2 flow conditions <a class=\"anchor\" id=\"section_2_4_2\"></a>"
   ]
  },
  {
   "cell_type": "code",
   "execution_count": null,
   "id": "04998989",
   "metadata": {},
   "outputs": [],
   "source": []
  },
  {
   "cell_type": "markdown",
   "id": "9beb893b",
   "metadata": {},
   "source": [
    "## 2.5 Initial conditions <a class=\"anchor\" id=\"section_2_5\"></a>"
   ]
  },
  {
   "cell_type": "code",
   "execution_count": null,
   "id": "046c1dfd",
   "metadata": {},
   "outputs": [],
   "source": []
  },
  {
   "cell_type": "markdown",
   "id": "8ccd5a1f",
   "metadata": {},
   "source": [
    "## 2.6 Model cases <a class=\"anchor\" id=\"section_2_6\"></a>"
   ]
  },
  {
   "cell_type": "code",
   "execution_count": null,
   "id": "736e2454",
   "metadata": {},
   "outputs": [],
   "source": []
  },
  {
   "cell_type": "markdown",
   "id": "9df911be",
   "metadata": {},
   "source": [
    "# 3 Running models <a class=\"anchor\" id=\"chapter3\"></a>\n",
    "\n",
    "Here we go trough the model-executing process by:\n",
    "1. Generate grid(2) and inspect the result\n",
    "2. Computate flow and inspect results at selected locations\n",
    "\n",
    "## 3.1 Grid-generator <a class=\"anchor\" id=\"section_3_1\"></a>"
   ]
  },
  {
   "cell_type": "markdown",
   "id": "0367a22f",
   "metadata": {},
   "source": [
    "### 3.1.3 Process geopackage <a class=\"anchor\" id=\"section_3_1_3\"></a>"
   ]
  },
  {
   "cell_type": "code",
   "execution_count": 3,
   "id": "cc29615f",
   "metadata": {},
   "outputs": [],
   "source": [
    "from h2flow.postprocessing.grid import convert_grid_to_gpkg\n",
    "case_grids_dir = case_dir / \"grids\"\n",
    "convert_grid_to_gpkg(nodes_dia= case_grids_dir / \"node_coordinates.dia\",\n",
    "                     links_dia= case_grids_dir / \"link_coordinates.dia\",\n",
    "                     node_dem= case_grids_dir / \"node_dem.dia\",\n",
    "                     ridges_file= case_dir / \"ridges.  1\",\n",
    "                     epsg= crs,\n",
    "                     output_path = case_grids_dir / \"grid.gpkg\",\n",
    "                     overwrite = True)"
   ]
  },
  {
   "cell_type": "markdown",
   "id": "4ee143c2",
   "metadata": {},
   "source": [
    "## 3.2 Flow-computator <a class=\"anchor\" id=\"section_3.2\"></a>"
   ]
  },
  {
   "cell_type": "code",
   "execution_count": null,
   "id": "fd1e7cfd",
   "metadata": {},
   "outputs": [],
   "source": []
  },
  {
   "cell_type": "markdown",
   "id": "ab07bde8",
   "metadata": {},
   "source": [
    "# 4 Postprocessing <a class=\"anchor\" id=\"chapter4\"></a>\n",
    "\n",
    "Here we need sections on postprocessing"
   ]
  },
  {
   "cell_type": "markdown",
   "id": "8f6ef0b5",
   "metadata": {},
   "source": [
    "### 4.1 Read 2D network <a class=\"anchor\" id=\"section_4_1\"></a>"
   ]
  },
  {
   "cell_type": "code",
   "execution_count": 4,
   "id": "470e11d1",
   "metadata": {},
   "outputs": [
    {
     "name": "stdout",
     "output_type": "stream",
     "text": [
      "@LINKS: ['discharges2d', 'velocities2d']\n",
      "@NODES: ['thinwaterdepths2d', 'volumes2d', 'waterlevels2d', 'velocityupwind2d']\n"
     ]
    }
   ],
   "source": [
    "from h2flow.postprocessing.results import extract_result, extract_distances, LINK_RESULTS, NODE_RESULTS\n",
    "\n",
    "start_datetime = \"2001-01-01T00:00:00Z\"\n",
    "line = LineString(((126752.926, 464172.307), (126795.741, 464128.306)))\n",
    "point = Point(line.coords[0])\n",
    "\n",
    "print(\"@LINKS:\", LINK_RESULTS)\n",
    "print(\"@NODES:\", NODE_RESULTS)"
   ]
  },
  {
   "cell_type": "markdown",
   "id": "02d49d80",
   "metadata": {},
   "source": [
    "### 4.1.1 Point timeseries <a class=\"anchor\" id=\"section_4_1_1\"></a>"
   ]
  },
  {
   "cell_type": "code",
   "execution_count": 5,
   "id": "016331ac",
   "metadata": {},
   "outputs": [
    {
     "data": {
      "text/plain": [
       "<AxesSubplot:xlabel='datetime'>"
      ]
     },
     "execution_count": 5,
     "metadata": {},
     "output_type": "execute_result"
    },
    {
     "data": {
      "image/png": "[encoded data removed]",
      "text/plain": [
       "<Figure size 432x288 with 1 Axes>"
      ]
     },
     "metadata": {
      "needs_background": "light"
     },
     "output_type": "display_data"
    }
   ],
   "source": [
    "df = extract_result(case_dir, result=\"waterlevels2d\", geometry=point, start_datetime=start_datetime)\n",
    "df.plot()"
   ]
  },
  {
   "cell_type": "markdown",
   "id": "fa52d711",
   "metadata": {},
   "source": [
    "### 4.1.2 Discharge cross-section <a class=\"anchor\" id=\"section_4_1_2\"></a>"
   ]
  },
  {
   "cell_type": "code",
   "execution_count": 6,
   "id": "e4cc169c",
   "metadata": {},
   "outputs": [
    {
     "data": {
      "text/plain": [
       "<AxesSubplot:xlabel='datetime'>"
      ]
     },
     "execution_count": 6,
     "metadata": {},
     "output_type": "execute_result"
    },
    {
     "data": {
      "image/png": "[encoded data removed]",
      "text/plain": [
       "<Figure size 432x288 with 1 Axes>"
      ]
     },
     "metadata": {
      "needs_background": "light"
     },
     "output_type": "display_data"
    }
   ],
   "source": [
    "df = extract_result(case_dir, result=\"discharges2d\", geometry=line, start_datetime=start_datetime)\n",
    "df.sum(axis=1).plot()"
   ]
  },
  {
   "cell_type": "markdown",
   "id": "35ea2771",
   "metadata": {},
   "source": [
    "### 4.1.3 Get waterlevel profile <a class=\"anchor\" id=\"section_4_1_3\"></a>"
   ]
  },
  {
   "cell_type": "code",
   "execution_count": 7,
   "id": "0d660678",
   "metadata": {},
   "outputs": [
    {
     "data": {
      "text/plain": [
       "<AxesSubplot:xlabel='distance'>"
      ]
     },
     "execution_count": 7,
     "metadata": {},
     "output_type": "execute_result"
    },
    {
     "data": {
      "image/png": "[encoded data removed]",
      "text/plain": [
       "<Figure size 432x288 with 1 Axes>"
      ]
     },
     "metadata": {
      "needs_background": "light"
     },
     "output_type": "display_data"
    }
   ],
   "source": [
    "df = extract_distances(case_dir, geometry=line)\n",
    "level_df = extract_result(case_dir, result=\"waterlevels2d\", geometry=line, start_datetime=start_datetime)\n",
    "level_max_series = level_df.max()\n",
    "df[\"waterlevel\"] = df[\"number\"].apply(lambda x:level_max_series.loc[x])\n",
    "df.set_index(\"distance\")[\"waterlevel\"].plot()"
   ]
  },
  {
   "cell_type": "markdown",
   "id": "6ded7ac3",
   "metadata": {},
   "source": [
    "### 4.2 Export <a class=\"anchor\" id=\"section_4_2\"></a>\n",
    "\n",
    "### 4.2.1 GTiffs <a class=\"anchor\" id=\"section_4_2_1\"></a>"
   ]
  },
  {
   "cell_type": "code",
   "execution_count": 8,
   "id": "0233bd64",
   "metadata": {},
   "outputs": [
    {
     "name": "stdout",
     "output_type": "stream",
     "text": [
      "writing ..\\data\\de_tol_small\\case1\\gtiffs\\depth_20010101T000000.tif\n",
      "writing ..\\data\\de_tol_small\\case1\\gtiffs\\depth_20010101T000004.tif\n",
      "writing ..\\data\\de_tol_small\\case1\\gtiffs\\depth_20010101T000104.tif\n",
      "writing ..\\data\\de_tol_small\\case1\\gtiffs\\depth_20010101T000204.tif\n",
      "writing ..\\data\\de_tol_small\\case1\\gtiffs\\depth_20010101T000304.tif\n",
      "writing ..\\data\\de_tol_small\\case1\\gtiffs\\depth_20010101T000404.tif\n",
      "writing ..\\data\\de_tol_small\\case1\\gtiffs\\depth_20010101T000504.tif\n",
      "writing ..\\data\\de_tol_small\\case1\\gtiffs\\depth_20010101T000604.tif\n",
      "writing ..\\data\\de_tol_small\\case1\\gtiffs\\depth_20010101T000704.tif\n",
      "writing ..\\data\\de_tol_small\\case1\\gtiffs\\depth_20010101T000804.tif\n",
      "writing ..\\data\\de_tol_small\\case1\\gtiffs\\depth_20010101T000904.tif\n",
      "writing ..\\data\\de_tol_small\\case1\\gtiffs\\depth_20010101T001004.tif\n",
      "writing ..\\data\\de_tol_small\\case1\\gtiffs\\depth_20010101T001104.tif\n",
      "writing ..\\data\\de_tol_small\\case1\\gtiffs\\depth_20010101T001204.tif\n",
      "writing ..\\data\\de_tol_small\\case1\\gtiffs\\depth_20010101T001304.tif\n",
      "writing ..\\data\\de_tol_small\\case1\\gtiffs\\depth_20010101T001404.tif\n",
      "writing ..\\data\\de_tol_small\\case1\\gtiffs\\depth_20010101T001504.tif\n",
      "writing ..\\data\\de_tol_small\\case1\\gtiffs\\depth_20010101T001604.tif\n",
      "writing ..\\data\\de_tol_small\\case1\\gtiffs\\depth_20010101T001704.tif\n",
      "writing ..\\data\\de_tol_small\\case1\\gtiffs\\depth_20010101T001804.tif\n",
      "writing ..\\data\\de_tol_small\\case1\\gtiffs\\depth_20010101T001904.tif\n",
      "writing ..\\data\\de_tol_small\\case1\\gtiffs\\depth_20010101T002004.tif\n",
      "writing ..\\data\\de_tol_small\\case1\\gtiffs\\depth_20010101T002104.tif\n",
      "writing ..\\data\\de_tol_small\\case1\\gtiffs\\depth_20010101T002204.tif\n",
      "writing ..\\data\\de_tol_small\\case1\\gtiffs\\depth_20010101T002304.tif\n",
      "writing ..\\data\\de_tol_small\\case1\\gtiffs\\depth_20010101T002404.tif\n",
      "writing ..\\data\\de_tol_small\\case1\\gtiffs\\depth_20010101T002504.tif\n",
      "writing ..\\data\\de_tol_small\\case1\\gtiffs\\depth_20010101T002604.tif\n",
      "writing ..\\data\\de_tol_small\\case1\\gtiffs\\depth_20010101T002704.tif\n",
      "writing ..\\data\\de_tol_small\\case1\\gtiffs\\depth_20010101T002804.tif\n",
      "writing ..\\data\\de_tol_small\\case1\\gtiffs\\depth_20010101T002904.tif\n",
      "writing ..\\data\\de_tol_small\\case1\\gtiffs\\depth_20010101T003004.tif\n",
      "writing ..\\data\\de_tol_small\\case1\\gtiffs\\depth_20010101T003104.tif\n",
      "writing ..\\data\\de_tol_small\\case1\\gtiffs\\depth_20010101T003204.tif\n",
      "writing ..\\data\\de_tol_small\\case1\\gtiffs\\depth_20010101T003304.tif\n",
      "writing ..\\data\\de_tol_small\\case1\\gtiffs\\depth_20010101T003404.tif\n",
      "writing ..\\data\\de_tol_small\\case1\\gtiffs\\depth_20010101T003504.tif\n",
      "writing ..\\data\\de_tol_small\\case1\\gtiffs\\depth_20010101T003604.tif\n",
      "writing ..\\data\\de_tol_small\\case1\\gtiffs\\depth_20010101T003704.tif\n",
      "writing ..\\data\\de_tol_small\\case1\\gtiffs\\depth_20010101T003804.tif\n",
      "writing ..\\data\\de_tol_small\\case1\\gtiffs\\depth_20010101T003904.tif\n",
      "writing ..\\data\\de_tol_small\\case1\\gtiffs\\depth_20010101T004004.tif\n",
      "writing ..\\data\\de_tol_small\\case1\\gtiffs\\depth_20010101T004104.tif\n",
      "writing ..\\data\\de_tol_small\\case1\\gtiffs\\depth_20010101T004204.tif\n",
      "writing ..\\data\\de_tol_small\\case1\\gtiffs\\depth_20010101T004304.tif\n",
      "writing ..\\data\\de_tol_small\\case1\\gtiffs\\depth_20010101T004404.tif\n",
      "writing ..\\data\\de_tol_small\\case1\\gtiffs\\depth_20010101T004504.tif\n",
      "writing ..\\data\\de_tol_small\\case1\\gtiffs\\depth_20010101T004604.tif\n",
      "writing ..\\data\\de_tol_small\\case1\\gtiffs\\depth_20010101T004704.tif\n",
      "writing ..\\data\\de_tol_small\\case1\\gtiffs\\depth_20010101T004804.tif\n",
      "writing ..\\data\\de_tol_small\\case1\\gtiffs\\depth_20010101T004904.tif\n",
      "writing ..\\data\\de_tol_small\\case1\\gtiffs\\depth_20010101T005004.tif\n",
      "writing ..\\data\\de_tol_small\\case1\\gtiffs\\depth_20010101T005104.tif\n",
      "writing ..\\data\\de_tol_small\\case1\\gtiffs\\depth_20010101T005204.tif\n",
      "writing ..\\data\\de_tol_small\\case1\\gtiffs\\depth_20010101T005304.tif\n",
      "writing ..\\data\\de_tol_small\\case1\\gtiffs\\depth_20010101T005404.tif\n",
      "writing ..\\data\\de_tol_small\\case1\\gtiffs\\depth_20010101T005504.tif\n",
      "writing ..\\data\\de_tol_small\\case1\\gtiffs\\depth_20010101T005604.tif\n",
      "writing ..\\data\\de_tol_small\\case1\\gtiffs\\depth_20010101T005704.tif\n",
      "writing ..\\data\\de_tol_small\\case1\\gtiffs\\depth_20010101T005804.tif\n",
      "writing ..\\data\\de_tol_small\\case1\\gtiffs\\depth_20010101T005904.tif\n",
      "writing ..\\data\\de_tol_small\\case1\\gtiffs\\depth_20010101T010004.tif\n",
      "writing ..\\data\\de_tol_small\\case1\\gtiffs\\depth_20010101T010104.tif\n",
      "writing ..\\data\\de_tol_small\\case1\\gtiffs\\depth_20010101T010204.tif\n",
      "writing ..\\data\\de_tol_small\\case1\\gtiffs\\depth_20010101T010304.tif\n",
      "writing ..\\data\\de_tol_small\\case1\\gtiffs\\depth_20010101T010404.tif\n",
      "writing ..\\data\\de_tol_small\\case1\\gtiffs\\depth_20010101T010504.tif\n",
      "writing ..\\data\\de_tol_small\\case1\\gtiffs\\depth_20010101T010604.tif\n",
      "writing ..\\data\\de_tol_small\\case1\\gtiffs\\depth_20010101T010704.tif\n",
      "writing ..\\data\\de_tol_small\\case1\\gtiffs\\depth_20010101T010804.tif\n",
      "writing ..\\data\\de_tol_small\\case1\\gtiffs\\depth_20010101T010904.tif\n",
      "writing ..\\data\\de_tol_small\\case1\\gtiffs\\depth_20010101T011004.tif\n",
      "writing ..\\data\\de_tol_small\\case1\\gtiffs\\depth_20010101T011104.tif\n",
      "writing ..\\data\\de_tol_small\\case1\\gtiffs\\depth_20010101T011204.tif\n",
      "writing ..\\data\\de_tol_small\\case1\\gtiffs\\depth_20010101T011304.tif\n",
      "writing ..\\data\\de_tol_small\\case1\\gtiffs\\depth_20010101T011404.tif\n",
      "writing ..\\data\\de_tol_small\\case1\\gtiffs\\depth_20010101T011504.tif\n",
      "writing ..\\data\\de_tol_small\\case1\\gtiffs\\depth_20010101T011604.tif\n",
      "writing ..\\data\\de_tol_small\\case1\\gtiffs\\depth_20010101T011704.tif\n",
      "writing ..\\data\\de_tol_small\\case1\\gtiffs\\depth_20010101T011804.tif\n",
      "writing ..\\data\\de_tol_small\\case1\\gtiffs\\depth_20010101T011904.tif\n",
      "writing ..\\data\\de_tol_small\\case1\\gtiffs\\depth_20010101T012004.tif\n",
      "writing ..\\data\\de_tol_small\\case1\\gtiffs\\depth_20010101T012104.tif\n",
      "writing ..\\data\\de_tol_small\\case1\\gtiffs\\depth_20010101T012204.tif\n",
      "writing ..\\data\\de_tol_small\\case1\\gtiffs\\depth_20010101T012304.tif\n",
      "writing ..\\data\\de_tol_small\\case1\\gtiffs\\depth_20010101T012404.tif\n",
      "writing ..\\data\\de_tol_small\\case1\\gtiffs\\depth_20010101T012504.tif\n",
      "writing ..\\data\\de_tol_small\\case1\\gtiffs\\depth_20010101T012604.tif\n",
      "writing ..\\data\\de_tol_small\\case1\\gtiffs\\depth_20010101T012704.tif\n",
      "writing ..\\data\\de_tol_small\\case1\\gtiffs\\depth_20010101T012804.tif\n",
      "writing ..\\data\\de_tol_small\\case1\\gtiffs\\depth_20010101T012904.tif\n",
      "writing ..\\data\\de_tol_small\\case1\\gtiffs\\depth_20010101T013004.tif\n",
      "writing ..\\data\\de_tol_small\\case1\\gtiffs\\depth_20010101T013104.tif\n",
      "writing ..\\data\\de_tol_small\\case1\\gtiffs\\depth_20010101T013204.tif\n",
      "writing ..\\data\\de_tol_small\\case1\\gtiffs\\depth_20010101T013304.tif\n",
      "writing ..\\data\\de_tol_small\\case1\\gtiffs\\depth_20010101T013404.tif\n",
      "writing ..\\data\\de_tol_small\\case1\\gtiffs\\depth_20010101T013504.tif\n",
      "writing ..\\data\\de_tol_small\\case1\\gtiffs\\depth_20010101T013604.tif\n",
      "writing ..\\data\\de_tol_small\\case1\\gtiffs\\depth_20010101T013704.tif\n",
      "writing ..\\data\\de_tol_small\\case1\\gtiffs\\depth_20010101T013804.tif\n",
      "writing ..\\data\\de_tol_small\\case1\\gtiffs\\depth_20010101T013904.tif\n",
      "writing ..\\data\\de_tol_small\\case1\\gtiffs\\depth_20010101T014004.tif\n",
      "writing ..\\data\\de_tol_small\\case1\\gtiffs\\depth_20010101T014104.tif\n",
      "writing ..\\data\\de_tol_small\\case1\\gtiffs\\depth_20010101T014204.tif\n",
      "writing ..\\data\\de_tol_small\\case1\\gtiffs\\depth_20010101T014304.tif\n",
      "writing ..\\data\\de_tol_small\\case1\\gtiffs\\depth_20010101T014404.tif\n",
      "writing ..\\data\\de_tol_small\\case1\\gtiffs\\depth_20010101T014504.tif\n",
      "writing ..\\data\\de_tol_small\\case1\\gtiffs\\depth_20010101T014604.tif\n",
      "writing ..\\data\\de_tol_small\\case1\\gtiffs\\depth_20010101T014704.tif\n",
      "writing ..\\data\\de_tol_small\\case1\\gtiffs\\depth_20010101T014804.tif\n",
      "writing ..\\data\\de_tol_small\\case1\\gtiffs\\depth_20010101T014904.tif\n",
      "writing ..\\data\\de_tol_small\\case1\\gtiffs\\depth_20010101T015004.tif\n",
      "writing ..\\data\\de_tol_small\\case1\\gtiffs\\depth_20010101T015104.tif\n",
      "writing ..\\data\\de_tol_small\\case1\\gtiffs\\depth_20010101T015204.tif\n",
      "writing ..\\data\\de_tol_small\\case1\\gtiffs\\depth_20010101T015304.tif\n",
      "writing ..\\data\\de_tol_small\\case1\\gtiffs\\depth_20010101T015404.tif\n",
      "writing ..\\data\\de_tol_small\\case1\\gtiffs\\depth_20010101T015504.tif\n",
      "writing ..\\data\\de_tol_small\\case1\\gtiffs\\depth_20010101T015604.tif\n",
      "writing ..\\data\\de_tol_small\\case1\\gtiffs\\depth_20010101T015704.tif\n",
      "writing ..\\data\\de_tol_small\\case1\\gtiffs\\depth_20010101T015804.tif\n",
      "writing ..\\data\\de_tol_small\\case1\\gtiffs\\depth_20010101T015904.tif\n"
     ]
    },
    {
     "name": "stdout",
     "output_type": "stream",
     "text": [
      "writing ..\\data\\de_tol_small\\case1\\gtiffs\\depth_20010101T020004.tif\n",
      "writing ..\\data\\de_tol_small\\case1\\gtiffs\\depth_20010101T020104.tif\n",
      "writing ..\\data\\de_tol_small\\case1\\gtiffs\\depth_20010101T020204.tif\n",
      "writing ..\\data\\de_tol_small\\case1\\gtiffs\\depth_20010101T020304.tif\n",
      "writing ..\\data\\de_tol_small\\case1\\gtiffs\\depth_20010101T020404.tif\n",
      "writing ..\\data\\de_tol_small\\case1\\gtiffs\\depth_20010101T020504.tif\n",
      "writing ..\\data\\de_tol_small\\case1\\gtiffs\\depth_20010101T020604.tif\n",
      "writing ..\\data\\de_tol_small\\case1\\gtiffs\\depth_20010101T020704.tif\n",
      "writing ..\\data\\de_tol_small\\case1\\gtiffs\\depth_20010101T020804.tif\n",
      "writing ..\\data\\de_tol_small\\case1\\gtiffs\\depth_20010101T020904.tif\n",
      "writing ..\\data\\de_tol_small\\case1\\gtiffs\\depth_20010101T021004.tif\n",
      "writing ..\\data\\de_tol_small\\case1\\gtiffs\\depth_20010101T021104.tif\n",
      "writing ..\\data\\de_tol_small\\case1\\gtiffs\\depth_20010101T021204.tif\n",
      "writing ..\\data\\de_tol_small\\case1\\gtiffs\\depth_20010101T021304.tif\n",
      "writing ..\\data\\de_tol_small\\case1\\gtiffs\\depth_20010101T021404.tif\n",
      "writing ..\\data\\de_tol_small\\case1\\gtiffs\\depth_20010101T021504.tif\n",
      "writing ..\\data\\de_tol_small\\case1\\gtiffs\\depth_20010101T021604.tif\n",
      "writing ..\\data\\de_tol_small\\case1\\gtiffs\\depth_20010101T021704.tif\n",
      "writing ..\\data\\de_tol_small\\case1\\gtiffs\\depth_20010101T021804.tif\n",
      "writing ..\\data\\de_tol_small\\case1\\gtiffs\\depth_20010101T021904.tif\n",
      "writing ..\\data\\de_tol_small\\case1\\gtiffs\\depth_20010101T022004.tif\n",
      "writing ..\\data\\de_tol_small\\case1\\gtiffs\\depth_20010101T022104.tif\n",
      "writing ..\\data\\de_tol_small\\case1\\gtiffs\\depth_20010101T022204.tif\n",
      "writing ..\\data\\de_tol_small\\case1\\gtiffs\\depth_20010101T022304.tif\n",
      "writing ..\\data\\de_tol_small\\case1\\gtiffs\\depth_20010101T022404.tif\n",
      "writing ..\\data\\de_tol_small\\case1\\gtiffs\\depth_20010101T022504.tif\n",
      "writing ..\\data\\de_tol_small\\case1\\gtiffs\\depth_20010101T022604.tif\n",
      "writing ..\\data\\de_tol_small\\case1\\gtiffs\\depth_20010101T022704.tif\n",
      "writing ..\\data\\de_tol_small\\case1\\gtiffs\\depth_20010101T022804.tif\n",
      "writing ..\\data\\de_tol_small\\case1\\gtiffs\\depth_20010101T022904.tif\n",
      "writing ..\\data\\de_tol_small\\case1\\gtiffs\\depth_20010101T023004.tif\n",
      "writing ..\\data\\de_tol_small\\case1\\gtiffs\\depth_20010101T023104.tif\n",
      "writing ..\\data\\de_tol_small\\case1\\gtiffs\\depth_20010101T023204.tif\n",
      "writing ..\\data\\de_tol_small\\case1\\gtiffs\\depth_20010101T023304.tif\n",
      "writing ..\\data\\de_tol_small\\case1\\gtiffs\\depth_20010101T023404.tif\n",
      "writing ..\\data\\de_tol_small\\case1\\gtiffs\\depth_20010101T023504.tif\n",
      "writing ..\\data\\de_tol_small\\case1\\gtiffs\\depth_20010101T023604.tif\n",
      "writing ..\\data\\de_tol_small\\case1\\gtiffs\\depth_20010101T023704.tif\n",
      "writing ..\\data\\de_tol_small\\case1\\gtiffs\\depth_20010101T023804.tif\n",
      "writing ..\\data\\de_tol_small\\case1\\gtiffs\\depth_20010101T023904.tif\n",
      "writing ..\\data\\de_tol_small\\case1\\gtiffs\\depth_20010101T024004.tif\n",
      "writing ..\\data\\de_tol_small\\case1\\gtiffs\\depth_20010101T024104.tif\n",
      "writing ..\\data\\de_tol_small\\case1\\gtiffs\\depth_20010101T024204.tif\n",
      "writing ..\\data\\de_tol_small\\case1\\gtiffs\\depth_20010101T024304.tif\n",
      "writing ..\\data\\de_tol_small\\case1\\gtiffs\\depth_20010101T024404.tif\n",
      "writing ..\\data\\de_tol_small\\case1\\gtiffs\\depth_20010101T024504.tif\n",
      "writing ..\\data\\de_tol_small\\case1\\gtiffs\\depth_20010101T024604.tif\n",
      "writing ..\\data\\de_tol_small\\case1\\gtiffs\\depth_20010101T024704.tif\n",
      "writing ..\\data\\de_tol_small\\case1\\gtiffs\\depth_20010101T024804.tif\n",
      "writing ..\\data\\de_tol_small\\case1\\gtiffs\\depth_20010101T024904.tif\n",
      "writing ..\\data\\de_tol_small\\case1\\gtiffs\\depth_20010101T025004.tif\n",
      "writing ..\\data\\de_tol_small\\case1\\gtiffs\\depth_20010101T025104.tif\n",
      "writing ..\\data\\de_tol_small\\case1\\gtiffs\\depth_20010101T025204.tif\n",
      "writing ..\\data\\de_tol_small\\case1\\gtiffs\\depth_20010101T025304.tif\n",
      "writing ..\\data\\de_tol_small\\case1\\gtiffs\\depth_20010101T025404.tif\n",
      "writing ..\\data\\de_tol_small\\case1\\gtiffs\\depth_20010101T025504.tif\n",
      "writing ..\\data\\de_tol_small\\case1\\gtiffs\\depth_20010101T025604.tif\n",
      "writing ..\\data\\de_tol_small\\case1\\gtiffs\\depth_20010101T025704.tif\n",
      "writing ..\\data\\de_tol_small\\case1\\gtiffs\\depth_20010101T025804.tif\n",
      "writing ..\\data\\de_tol_small\\case1\\gtiffs\\depth_20010101T025904.tif\n",
      "writing ..\\data\\de_tol_small\\case1\\gtiffs\\depth_20010101T030004.tif\n",
      "writing ..\\data\\de_tol_small\\case1\\gtiffs\\depth_20010101T030104.tif\n",
      "writing ..\\data\\de_tol_small\\case1\\gtiffs\\depth_20010101T030204.tif\n",
      "writing ..\\data\\de_tol_small\\case1\\gtiffs\\depth_20010101T030304.tif\n",
      "writing ..\\data\\de_tol_small\\case1\\gtiffs\\depth_20010101T030404.tif\n",
      "writing ..\\data\\de_tol_small\\case1\\gtiffs\\depth_20010101T030504.tif\n",
      "writing ..\\data\\de_tol_small\\case1\\gtiffs\\depth_20010101T030604.tif\n",
      "writing ..\\data\\de_tol_small\\case1\\gtiffs\\depth_20010101T030704.tif\n",
      "writing ..\\data\\de_tol_small\\case1\\gtiffs\\depth_20010101T030804.tif\n",
      "writing ..\\data\\de_tol_small\\case1\\gtiffs\\depth_20010101T030904.tif\n",
      "writing ..\\data\\de_tol_small\\case1\\gtiffs\\depth_20010101T031004.tif\n",
      "writing ..\\data\\de_tol_small\\case1\\gtiffs\\depth_20010101T031104.tif\n",
      "writing ..\\data\\de_tol_small\\case1\\gtiffs\\depth_20010101T031204.tif\n",
      "writing ..\\data\\de_tol_small\\case1\\gtiffs\\depth_20010101T031304.tif\n",
      "writing ..\\data\\de_tol_small\\case1\\gtiffs\\depth_20010101T031404.tif\n",
      "writing ..\\data\\de_tol_small\\case1\\gtiffs\\depth_20010101T031504.tif\n",
      "writing ..\\data\\de_tol_small\\case1\\gtiffs\\depth_20010101T031604.tif\n",
      "writing ..\\data\\de_tol_small\\case1\\gtiffs\\depth_20010101T031704.tif\n",
      "writing ..\\data\\de_tol_small\\case1\\gtiffs\\depth_20010101T031804.tif\n",
      "writing ..\\data\\de_tol_small\\case1\\gtiffs\\depth_20010101T031904.tif\n",
      "writing ..\\data\\de_tol_small\\case1\\gtiffs\\depth_20010101T032004.tif\n",
      "writing ..\\data\\de_tol_small\\case1\\gtiffs\\depth_20010101T032104.tif\n",
      "writing ..\\data\\de_tol_small\\case1\\gtiffs\\depth_20010101T032204.tif\n",
      "writing ..\\data\\de_tol_small\\case1\\gtiffs\\depth_20010101T032304.tif\n",
      "writing ..\\data\\de_tol_small\\case1\\gtiffs\\depth_20010101T032404.tif\n",
      "writing ..\\data\\de_tol_small\\case1\\gtiffs\\depth_20010101T032504.tif\n",
      "writing ..\\data\\de_tol_small\\case1\\gtiffs\\depth_20010101T032604.tif\n",
      "writing ..\\data\\de_tol_small\\case1\\gtiffs\\depth_20010101T032704.tif\n",
      "writing ..\\data\\de_tol_small\\case1\\gtiffs\\depth_20010101T032804.tif\n",
      "writing ..\\data\\de_tol_small\\case1\\gtiffs\\depth_20010101T032904.tif\n",
      "writing ..\\data\\de_tol_small\\case1\\gtiffs\\depth_20010101T033004.tif\n",
      "writing ..\\data\\de_tol_small\\case1\\gtiffs\\depth_20010101T033104.tif\n",
      "writing ..\\data\\de_tol_small\\case1\\gtiffs\\depth_20010101T033204.tif\n",
      "writing ..\\data\\de_tol_small\\case1\\gtiffs\\depth_20010101T033304.tif\n",
      "writing ..\\data\\de_tol_small\\case1\\gtiffs\\depth_20010101T033404.tif\n",
      "writing ..\\data\\de_tol_small\\case1\\gtiffs\\depth_20010101T033504.tif\n",
      "writing ..\\data\\de_tol_small\\case1\\gtiffs\\depth_20010101T033604.tif\n",
      "writing ..\\data\\de_tol_small\\case1\\gtiffs\\depth_20010101T033704.tif\n",
      "writing ..\\data\\de_tol_small\\case1\\gtiffs\\depth_20010101T033804.tif\n",
      "writing ..\\data\\de_tol_small\\case1\\gtiffs\\depth_20010101T033904.tif\n",
      "writing ..\\data\\de_tol_small\\case1\\gtiffs\\depth_20010101T034004.tif\n",
      "writing ..\\data\\de_tol_small\\case1\\gtiffs\\depth_20010101T034104.tif\n",
      "writing ..\\data\\de_tol_small\\case1\\gtiffs\\depth_20010101T034204.tif\n",
      "writing ..\\data\\de_tol_small\\case1\\gtiffs\\depth_20010101T034304.tif\n",
      "writing ..\\data\\de_tol_small\\case1\\gtiffs\\depth_20010101T034404.tif\n",
      "writing ..\\data\\de_tol_small\\case1\\gtiffs\\depth_20010101T034504.tif\n",
      "writing ..\\data\\de_tol_small\\case1\\gtiffs\\depth_20010101T034604.tif\n",
      "writing ..\\data\\de_tol_small\\case1\\gtiffs\\depth_20010101T034704.tif\n",
      "writing ..\\data\\de_tol_small\\case1\\gtiffs\\depth_20010101T034804.tif\n",
      "writing ..\\data\\de_tol_small\\case1\\gtiffs\\depth_20010101T034904.tif\n",
      "writing ..\\data\\de_tol_small\\case1\\gtiffs\\depth_20010101T035004.tif\n",
      "writing ..\\data\\de_tol_small\\case1\\gtiffs\\depth_20010101T035104.tif\n",
      "writing ..\\data\\de_tol_small\\case1\\gtiffs\\depth_20010101T035204.tif\n",
      "writing ..\\data\\de_tol_small\\case1\\gtiffs\\depth_20010101T035304.tif\n",
      "writing ..\\data\\de_tol_small\\case1\\gtiffs\\depth_20010101T035404.tif\n",
      "writing ..\\data\\de_tol_small\\case1\\gtiffs\\depth_20010101T035504.tif\n",
      "writing ..\\data\\de_tol_small\\case1\\gtiffs\\depth_20010101T035604.tif\n",
      "writing ..\\data\\de_tol_small\\case1\\gtiffs\\depth_20010101T035704.tif\n",
      "writing ..\\data\\de_tol_small\\case1\\gtiffs\\depth_20010101T035804.tif\n",
      "writing ..\\data\\de_tol_small\\case1\\gtiffs\\depth_20010101T035904.tif\n",
      "writing ..\\data\\de_tol_small\\case1\\gtiffs\\depth_20010101T040004.tif\n"
     ]
    },
    {
     "name": "stdout",
     "output_type": "stream",
     "text": [
      "writing ..\\data\\de_tol_small\\case1\\gtiffs\\depth_20010101T040104.tif\n",
      "writing ..\\data\\de_tol_small\\case1\\gtiffs\\depth_20010101T040204.tif\n",
      "writing ..\\data\\de_tol_small\\case1\\gtiffs\\depth_20010101T040304.tif\n",
      "writing ..\\data\\de_tol_small\\case1\\gtiffs\\depth_20010101T040404.tif\n",
      "writing ..\\data\\de_tol_small\\case1\\gtiffs\\depth_20010101T040504.tif\n",
      "writing ..\\data\\de_tol_small\\case1\\gtiffs\\depth_20010101T040604.tif\n",
      "writing ..\\data\\de_tol_small\\case1\\gtiffs\\depth_20010101T040704.tif\n",
      "writing ..\\data\\de_tol_small\\case1\\gtiffs\\depth_20010101T040804.tif\n",
      "writing ..\\data\\de_tol_small\\case1\\gtiffs\\depth_20010101T040904.tif\n",
      "writing ..\\data\\de_tol_small\\case1\\gtiffs\\depth_20010101T041004.tif\n",
      "writing ..\\data\\de_tol_small\\case1\\gtiffs\\depth_20010101T041104.tif\n",
      "writing ..\\data\\de_tol_small\\case1\\gtiffs\\depth_20010101T041204.tif\n",
      "writing ..\\data\\de_tol_small\\case1\\gtiffs\\depth_20010101T041304.tif\n",
      "writing ..\\data\\de_tol_small\\case1\\gtiffs\\depth_20010101T041404.tif\n",
      "writing ..\\data\\de_tol_small\\case1\\gtiffs\\depth_20010101T041504.tif\n",
      "writing ..\\data\\de_tol_small\\case1\\gtiffs\\depth_20010101T041604.tif\n",
      "writing ..\\data\\de_tol_small\\case1\\gtiffs\\depth_20010101T041704.tif\n",
      "writing ..\\data\\de_tol_small\\case1\\gtiffs\\depth_20010101T041804.tif\n",
      "writing ..\\data\\de_tol_small\\case1\\gtiffs\\depth_20010101T041904.tif\n",
      "writing ..\\data\\de_tol_small\\case1\\gtiffs\\depth_20010101T042004.tif\n",
      "writing ..\\data\\de_tol_small\\case1\\gtiffs\\depth_20010101T042104.tif\n",
      "writing ..\\data\\de_tol_small\\case1\\gtiffs\\depth_20010101T042204.tif\n",
      "writing ..\\data\\de_tol_small\\case1\\gtiffs\\depth_20010101T042304.tif\n",
      "writing ..\\data\\de_tol_small\\case1\\gtiffs\\depth_20010101T042404.tif\n",
      "writing ..\\data\\de_tol_small\\case1\\gtiffs\\depth_20010101T042504.tif\n",
      "writing ..\\data\\de_tol_small\\case1\\gtiffs\\depth_20010101T042604.tif\n",
      "writing ..\\data\\de_tol_small\\case1\\gtiffs\\depth_20010101T042704.tif\n",
      "writing ..\\data\\de_tol_small\\case1\\gtiffs\\depth_20010101T042804.tif\n",
      "writing ..\\data\\de_tol_small\\case1\\gtiffs\\depth_20010101T042904.tif\n",
      "writing ..\\data\\de_tol_small\\case1\\gtiffs\\depth_20010101T043004.tif\n",
      "writing ..\\data\\de_tol_small\\case1\\gtiffs\\depth_20010101T043104.tif\n",
      "writing ..\\data\\de_tol_small\\case1\\gtiffs\\depth_20010101T043204.tif\n",
      "writing ..\\data\\de_tol_small\\case1\\gtiffs\\depth_20010101T043304.tif\n",
      "writing ..\\data\\de_tol_small\\case1\\gtiffs\\depth_20010101T043404.tif\n",
      "writing ..\\data\\de_tol_small\\case1\\gtiffs\\depth_20010101T043504.tif\n",
      "writing ..\\data\\de_tol_small\\case1\\gtiffs\\depth_20010101T043604.tif\n",
      "writing ..\\data\\de_tol_small\\case1\\gtiffs\\depth_20010101T043704.tif\n",
      "writing ..\\data\\de_tol_small\\case1\\gtiffs\\depth_20010101T043804.tif\n",
      "writing ..\\data\\de_tol_small\\case1\\gtiffs\\depth_20010101T043904.tif\n",
      "writing ..\\data\\de_tol_small\\case1\\gtiffs\\depth_20010101T044004.tif\n",
      "writing ..\\data\\de_tol_small\\case1\\gtiffs\\depth_20010101T044104.tif\n",
      "writing ..\\data\\de_tol_small\\case1\\gtiffs\\depth_20010101T044204.tif\n",
      "writing ..\\data\\de_tol_small\\case1\\gtiffs\\depth_20010101T044304.tif\n",
      "writing ..\\data\\de_tol_small\\case1\\gtiffs\\depth_20010101T044404.tif\n",
      "writing ..\\data\\de_tol_small\\case1\\gtiffs\\depth_20010101T044504.tif\n",
      "writing ..\\data\\de_tol_small\\case1\\gtiffs\\depth_20010101T044604.tif\n",
      "writing ..\\data\\de_tol_small\\case1\\gtiffs\\depth_20010101T044704.tif\n",
      "writing ..\\data\\de_tol_small\\case1\\gtiffs\\depth_20010101T044804.tif\n",
      "writing ..\\data\\de_tol_small\\case1\\gtiffs\\depth_20010101T044904.tif\n",
      "writing ..\\data\\de_tol_small\\case1\\gtiffs\\depth_20010101T045004.tif\n",
      "writing ..\\data\\de_tol_small\\case1\\gtiffs\\depth_20010101T045104.tif\n",
      "writing ..\\data\\de_tol_small\\case1\\gtiffs\\depth_20010101T045204.tif\n",
      "writing ..\\data\\de_tol_small\\case1\\gtiffs\\depth_20010101T045304.tif\n",
      "writing ..\\data\\de_tol_small\\case1\\gtiffs\\depth_20010101T045404.tif\n",
      "writing ..\\data\\de_tol_small\\case1\\gtiffs\\depth_20010101T045504.tif\n",
      "writing ..\\data\\de_tol_small\\case1\\gtiffs\\depth_20010101T045604.tif\n",
      "writing ..\\data\\de_tol_small\\case1\\gtiffs\\depth_20010101T045704.tif\n",
      "writing ..\\data\\de_tol_small\\case1\\gtiffs\\depth_20010101T045804.tif\n",
      "writing ..\\data\\de_tol_small\\case1\\gtiffs\\depth_20010101T045904.tif\n"
     ]
    }
   ],
   "source": [
    "from h2flow.postprocessing.subgrid_results import export_depth\n",
    "export_depth(case_dir = case_dir,\n",
    "             elevation_file = case_dir / \"depthfile,imax=   642,jmax=   706.  1\",\n",
    "             export_dir = case_dir / \"gtiffs\",\n",
    "             start_datetime=start_datetime,\n",
    "             epsg=crs)"
   ]
  },
  {
   "cell_type": "code",
   "execution_count": null,
   "id": "021a6215",
   "metadata": {},
   "outputs": [],
   "source": []
  }
 ],
 "metadata": {
  "kernelspec": {
   "display_name": "Python 3 (ipykernel)",
   "language": "python",
   "name": "python3"
  },
  "language_info": {
   "codemirror_mode": {
    "name": "ipython",
    "version": 3
   },
   "file_extension": ".py",
   "mimetype": "text/x-python",
   "name": "python",
   "nbconvert_exporter": "python",
   "pygments_lexer": "ipython3",
   "version": "3.9.6"
  }
 },
 "nbformat": 4,
 "nbformat_minor": 5
}
